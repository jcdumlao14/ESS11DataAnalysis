{
  "nbformat": 4,
  "nbformat_minor": 0,
  "metadata": {
    "colab": {
      "provenance": [],
      "authorship_tag": "ABX9TyMSMMgiUqra2ZEhx/I7j47T",
      "include_colab_link": true
    },
    "kernelspec": {
      "name": "python3",
      "display_name": "Python 3"
    },
    "language_info": {
      "name": "python"
    }
  },
  "cells": [
    {
      "cell_type": "markdown",
      "metadata": {
        "id": "view-in-github",
        "colab_type": "text"
      },
      "source": [
        "<a href=\"https://colab.research.google.com/github/jcdumlao14/ESS11DataAnalysis/blob/main/Part_2_EFA_Trust_and_Social_Attitudes_Factors_Analysis_Plot.ipynb\" target=\"_parent\"><img src=\"https://colab.research.google.com/assets/colab-badge.svg\" alt=\"Open In Colab\"/></a>"
      ]
    },
    {
      "cell_type": "markdown",
      "source": [
        "# **Part 2: EFA Trust and Social Attitudes Factors Analysis Plot**"
      ],
      "metadata": {
        "id": "gSzO12keLZSo"
      }
    },
    {
      "cell_type": "markdown",
      "source": [
        "# **Scree Plot for Trust and Social Attitudes Variables**\n",
        "\n",
        "## **Key Findings**\n",
        "\n",
        "Based on the scree plot and the Eigenvalue = 1 criteria:\n",
        "\n",
        "**1. Number of Factors**: The scree plot suggests retaining 2 or 3 factors. After the second or third factor, the contribution of additional factors diminishes significantly. The first two factors, at least, should be regarded as influential components.\n",
        "\n",
        "**2. Variance Explained**: The initial factors capture a large proportion of the variance in the trust and social attitudes variables. This highlights the presence of underlying dimensions that explain the relationships between these variables.\n",
        "\n",
        "**3. Data Reduction**: Factor analysis can be used to reduce the dimensionality of the data by representing the original variables with a smaller set of factors.\n"
      ],
      "metadata": {
        "id": "uFMCm2BaA7h5"
      }
    },
    {
      "cell_type": "markdown",
      "source": [
        "# **Factor Loading Heatmap for Trust and Social Attitudes Variables**\n",
        "\n",
        "## **Key Findings**\n",
        "- **Factor 1**:\n",
        "  - High loadings for **trstplt** (0.86) and **trstprt** (0.81). Moderate loading for **trstprl**(0.53) and **trstplc**(0.40).\n",
        "  - This suggests Factor 1 primarily represents trust in institutions (police, courts, parliament, etc).\n",
        "- **Factor 2** :\n",
        "  - High loadings for **trstun** (0.71) and **trstep** (0.74).\n",
        "  - Factor 2 represents trust in unemployed and trust in people from other European countries, so trust of other human beings.\n",
        "- **Factor 3** :\n",
        "  - Moderate loadings for **ppltrst** (0.53), **pplfair** (0.51), and **pplhlp** (0.51).\n",
        "  - Factor 3 represents belief that other people are trustworthy, fair, and helpful.\n",
        "- **Variable Loadings Across Factors**:\n",
        "  - Some variables load strongly on one factor and weakly on others (e.g., trstplt loads strongly on Factor 1, but weakly on Factors 2 and 3). This is ideal as it indicates that the variables are distinctively capturing unique aspects of the factors.\n"
      ],
      "metadata": {
        "id": "LueA-C6qBs5y"
      }
    },
    {
      "cell_type": "markdown",
      "source": [
        "# **Group Bar Chart of Factor Loading for Trust and Social Attitudes Variables**\n",
        "\n",
        "## **Key Findings**\n",
        "**1. Factor Loadings Patterns**:\n",
        "   - **Factor 1 (Blue)**: High loadings for **trstplt**, **trstprt**, **trstprl** and to a lesser extent for **trstplc**. These variables seem to collectively measure the trust in institutions.\n",
        "   - **Factor 2 (Orange)**: High loadings for **trstun** and **trstep**. This means this factor captures social trust, more specifically how the subjects trust unemployed and people from other european countries.\n",
        "   - **Factor 3 (Green)**: High loadings for **ppltrst**, **pplfair**, and **pplhlp**. The variables in Factor 3 capture the overall belief that people are generally trustworthy, fair, and helpful.\n",
        "   - **Variable-Factor Associations**:\n",
        "     - The bars show the most important associations. For instance, trstplt is more associated with Factor 1. Therefore, by looking at the data, the variable loads higher in that specific factor.\n",
        "\n",
        "## **Overall Summary**:\n",
        "The grouped bar chart provides a clearer visualization of the relationships between variables and the underlying factors in your data. It reinforces the notion of three distinct factors related to trust and social attitudes: Institutional Trust, Social Trust, and Generalized Trust Beliefs. This visualization aligns with the interpretations derived from the factor loadings heatmap.\n"
      ],
      "metadata": {
        "id": "EhhkNMW9CnnR"
      }
    },
    {
      "cell_type": "markdown",
      "source": [
        "# **Scree Plot for Political Engagement & Efficacy Variables**\n",
        "\n",
        "## **Key Findings**\n",
        "**1. Number of Factors**: The scree plot suggests retaining 2 factors. The line flattens out after Factor 2, indicating that subsequent factors contribute diminishingly to the overall variance.\n",
        "\n",
        "**2. Variance Explained**: The first two factors capture the majority of the variance. Factor 1 is the most important, followed by Factor 2.\n",
        "\n",
        "**3. Potential Data Reduction**: Factor analysis could reduce the dimensionality of the data to two factors that capture the most relevant information.\n"
      ],
      "metadata": {
        "id": "A_KrhylbCgIL"
      }
    },
    {
      "cell_type": "markdown",
      "source": [
        "# **Factor loadings Heatmap for Political Engagement & Efficacy Variables**\n",
        "\n",
        "## **Key Findings**\n",
        "\n",
        "- **Factor 1** :\n",
        "  - High loadings for **psppsgva** (0.82) and **psppipla** (0.70).\n",
        "  - This suggests Factor 1 relates to political efficacy/the belief that one's participation can influence the system.\n",
        "- **Factor 2** :\n",
        "  - High loadings for **actrolga** (0.70) and **cptppola** (0.62).\n",
        "  - Factor 2 appears to represent the belief that you can act for political reasons and being involved with political organizations, or political engagement.\n",
        "- **Negative Loadings**:\n",
        "  - **polintr** and vote have negative loadings on both factors (although they are not strong, they are present). This could mean that greater engagement and efficacy have small negative relations with political knowledge and voting, or that they are not related at all (close to zero).\n"
      ],
      "metadata": {
        "id": "YeAm6i6KClXb"
      }
    },
    {
      "cell_type": "markdown",
      "source": [
        "# **Group Bar Chart for Political Engagement & Efficacy Variables**\n",
        "\n",
        "## **Key Findings**\n",
        "- **Factor 1 Loadings**:\n",
        "   - Strong positive loadings for **psppsgva** and **psppipla**. This confirms that Factor 1 represents political efficacy.\n",
        "- **Factor 2 Loadings**:\n",
        "   - Strong positive loadings for **cptppola** and **actrolga**. This confirms that Factor 2 represents political engagement.\n",
        "- **Negative Loadings**:\n",
        "  - Both **polintr** and vote demonstrate negative loadings on the political efficacy and engagement Factors. This implies political interest and the frequency of voting have a weak and negative influence on the factors related to efficacy and engagement.\n",
        "\n",
        "## **Overall Summary**\n",
        "This grouped bar chart visualization confirms the existence of two dimensions: political efficacy and political engagement. This visualization helps to interpret the meaning of the factors, as extracted via factor analysis.\n"
      ],
      "metadata": {
        "id": "o3qW7chOCk7q"
      }
    },
    {
      "cell_type": "markdown",
      "source": [
        "# **Scree Plot for Socio-Economic Satisfaction/Attitudes Variables**\n",
        "\n",
        "## **Key Findings**\n",
        "**1. Number of Factors**: The scree plot suggests retaining 1 or 2 factors. The curve flattens considerably after the first factor, with the possible \"**elbow**\" at Factor 2. The Eigenvalue = 1 criteria would suggest only retaining Factor 1.\n",
        "\n",
        "**2. Variance Explained**: Factor 1 explains the largest proportion of the variance in the socio-economic satisfaction/attitudes variables.\n",
        "\n",
        "**3. Potential Data Reduction**: Depending on the complexity you want to capture, the data can be reduced to 1 or 2 main factors.\n"
      ],
      "metadata": {
        "id": "Qlb2XQNnCkyZ"
      }
    },
    {
      "cell_type": "markdown",
      "source": [
        "# **Factor Loadings Heatmap for Socio-Economic Satisfaction/Attitudes Variables**\n",
        "## **Key Findings**\n",
        "- **Factor 1** :\n",
        "   - High loading for **stfgov** (0.76), moderate loading for **stfdem** (0.47), and moderate loading for **stfeco**(0.35).\n",
        "   - This indicates Factor 1 relates to satisfaction with the government and the economy.\n",
        "- **Factor 2** :\n",
        "   - Moderate loading for **stfhlth** (0.43), and **stfedu** (0.37).\n",
        "   - This indicates Factor 2 relates to satisfaction with healthcare and education.\n",
        "- **Weak or Moderate Loadings**:\n",
        "  - There are no very strong loadings on Factor 2. This is consistent with the scree plot.\n"
      ],
      "metadata": {
        "id": "OWXkcXr-Fx_t"
      }
    },
    {
      "cell_type": "markdown",
      "source": [
        "# **Group Bar Chart of Factor Loading for Socio-Economic Satisfaction/Attitudes Variables**\n",
        "## **Key Findings**\n",
        "- **Factor 1 Loadings**:\n",
        "  - **stfgov** (Satisfaction with Government) has the highest loading on Factor 1, reinforcing Factor 1 represents a positive socio-economic environment.\n",
        "- **Factor 2 Loadings**:\n",
        "  - **stfhlth** (Satisfaction with Healthcare) has the highest loading on Factor 2, which shows how important the service is for people, and its positive relationship with an individual's view on the world.\n",
        "- **Variable-Factor Associations**:\n",
        "  - \"**Satisfaction with Life**\" seems to be barely correlated with both factors. The service may not be important.\n",
        "\n"
      ],
      "metadata": {
        "id": "eYYj8uf6Fxm2"
      }
    },
    {
      "cell_type": "markdown",
      "source": [
        "# **Scree Plot for Immigration Attitudes Variables**\n",
        "## **Key Findings**\n",
        "1. **Number of Factors:** This scree plot suggests retaining 2 factors.\n",
        "2. **Variance Explained:** The first two factors capture the largest amount of variance in immigration attitudes.\n",
        "3. **Potential Data Reduction:** Factor analysis can reduce the data to 2 factors, to extract the\n",
        "4. most relevant information.\n"
      ],
      "metadata": {
        "id": "wzMrkKKnHcPA"
      }
    },
    {
      "cell_type": "markdown",
      "source": [
        "# **Grouped Bar Chart of Factor Loadings Immigration Attitudes Variables**\n",
        "## **Key Findings**\n",
        "- **Factor 1 Loadings**:\n",
        "  - **imdfetn**, **impcntr**, and **imsmetn** exhibit high loadings on Factor 1. Confirming, in this dataset, the cultural threat.\n",
        "- **Factor 2 Loadings**:\n",
        "  - **imueclt**, **imwbcnt**, and **imbgeco** show strong loadings on Factor 2. confirming the variables correlate most strongly.\n",
        "- The separation between the bars reinforce the two factors.\n"
      ],
      "metadata": {
        "id": "bsRsJMABG9W1"
      }
    },
    {
      "cell_type": "markdown",
      "source": [
        "# **Scree plot for Climate Change Attitudes Variables**\n",
        "\n",
        "# **Key Findings**\n",
        "- **Number of Factors**: This scree plot suggests retaining 1 factor. The significant drop from Factor 1 to Factor 2 indicates Factor 1's high importance.\n",
        "- **Variance Explained**: This factor captures more variance, in comparison with other factors for Climate Change Attitudes.\n",
        "- **Potential Data Reduction**: You should only apply Factor 1, as it has significance for analysis, and drop the other ones.\n"
      ],
      "metadata": {
        "id": "kvE888ibIVXa"
      }
    },
    {
      "cell_type": "markdown",
      "source": [
        "# **Factor Loadings Heatmap for Climate Change Attitudes Variables**\n",
        "## **Key Findings**\n",
        "- **Negative Loadings**: Since all values are negative, consider the nature of the variables. It might be a question for \"**disagree with climate change**\".\n",
        "- **Factor 1** :\n",
        "   - High Loading for ccrdprs (-0.95)\n",
        "   - This factor captures if climate change is caused by humans, which is related to others.\n",
        "\n"
      ],
      "metadata": {
        "id": "FzhyTGNVIklR"
      }
    },
    {
      "cell_type": "markdown",
      "source": [
        "# **Group Bar Chart for  Climate Change Attitudes Variables**\n",
        "## **Key Findings**\n",
        "**Factor 1 Loadings**:\n",
        "  - **ccrdprs** represents the belief that climate change is not due to human actions, but that of nature\n"
      ],
      "metadata": {
        "id": "ilcHKprAH6ER"
      }
    },
    {
      "cell_type": "markdown",
      "source": [
        "### Refer to the plot for illustration in the link provided: https://github.com/jcdumlao14/ESS11DataAnalysis/blob/main/EFA_and_Statistical_Measures.ipynb"
      ],
      "metadata": {
        "id": "AuAIYfFfNDlw"
      }
    }
  ]
}