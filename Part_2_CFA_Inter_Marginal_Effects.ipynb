{
  "nbformat": 4,
  "nbformat_minor": 0,
  "metadata": {
    "colab": {
      "provenance": [],
      "authorship_tag": "ABX9TyNoORiPMHss+0PM62BTvk1K",
      "include_colab_link": true
    },
    "kernelspec": {
      "name": "python3",
      "display_name": "Python 3"
    },
    "language_info": {
      "name": "python"
    }
  },
  "cells": [
    {
      "cell_type": "markdown",
      "metadata": {
        "id": "view-in-github",
        "colab_type": "text"
      },
      "source": [
        "<a href=\"https://colab.research.google.com/github/jcdumlao14/ESS11DataAnalysis/blob/main/Part_2_CFA_Inter_Marginal_Effects.ipynb\" target=\"_parent\"><img src=\"https://colab.research.google.com/assets/colab-badge.svg\" alt=\"Open In Colab\"/></a>"
      ]
    },
    {
      "cell_type": "markdown",
      "source": [
        "# **Part 2: CFA Inter-Marginal Effects**"
      ],
      "metadata": {
        "id": "FPsn977EqgBW"
      }
    },
    {
      "cell_type": "markdown",
      "source": [
        "# **Interaction Model Results**"
      ],
      "metadata": {
        "id": "wqlonRAiqtt0"
      }
    },
    {
      "cell_type": "markdown",
      "source": [
        "## **Summary of Models 1-6: CVD Risk Factors (with Caveats)**\n",
        "**Models 1, 5, and 6: Unreliable Results**\n",
        "Models 1 (BMI x Education), 5 (Main Activity x Education), and 6 (Sleep Quality x Age) produced \"NaN\" values and extremely large coefficients. This makes them completely unreliable for any valid interpretation. There are severe underlying issues that need to be resolved before these models can be used.\n",
        "\n",
        "**Model 2: Smoking and Gender Interaction**\n",
        "- Smoking is correlated with CVD risk.\n",
        "- Gender also plays a role.\n",
        "- A significant interaction suggests the effect of smoking on CVD risk may be different for males versus females.\n",
        "\n",
        "**Model 3: Region and BMI Interaction**\n",
        "- BMI is correlated to CVD, and has significant interactions in North, West, Unknown Region.\n",
        "- However the distribution is hard to visualize in the current plots.\n",
        "\n",
        "**Model 4: Alcohol and Gender Interaction**\n",
        "- Interactions show significant correlations to CVD risk by weekday alcohol consumption across genders.\n",
        "\n"
      ],
      "metadata": {
        "id": "yXen2kIoqtqb"
      }
    },
    {
      "cell_type": "markdown",
      "source": [
        "# **Marginal Effects Plots**\n",
        "\n",
        "**Key Observations and Interpretations:**\n",
        "\n",
        "**Smoking and Gender (Marginal Effects of Smoking on CVD by Gender)**:\n",
        "- For males, as the smoking level increases from 1 to 5, there seems to be a negative slope, resulting in the probability of CVD for males is likely to decrease with smoking.\n",
        "- For females, there seems to be a drastic positive increase from level 5 to 9 in smoking.\n",
        "\n",
        "**Sleep Quality and Age (Marginal Effects of Sleep Quality on CVD at Mean Age)**:\n",
        "- This plot is essentially a step function. Up to a sleep quality level of around 4, the predicted probability of CVD is near zero.\n",
        "- At a sleep quality level of 4, the probability sharply jumps to 1. This suggests, if this model were valid, that achieving a certain minimum sleep quality threshold is critical for preventing CVD.\n",
        "\n",
        "\n",
        "**BMI and Region (Marginal Effects of BMI on CVD by Region)**:\n",
        "- The region of the West displays that the probability of CVD increases as BMI increases.\n",
        "- The region of the South also shows the similar trends as the West\n",
        "- North suggests the probability of CVD decrease when BMI increases\n",
        "- Unknown region is correlated with a higher slope which may mean it is a more important factor and relation.\n",
        "- East region has an average horizontal line and the other regions influence.\n",
        "\n",
        "\n",
        "**Main Activity and Education (Marginal Effects of Main Activity on CVD by Education Level)**:\n",
        "- Marginal effects have no interactions\n",
        "\n",
        "\n",
        "**BMI and Education (Marginal Effects of BMI on CVD by Education Level)**:\n",
        "- Marginal effects have no interactions\n",
        "\n",
        "\n",
        "**Alcohol Consumption and Gender (Marginal Effects of Weekday Alcohol on CVD by Gender):**\n",
        "- For males, the curve displays that there is a slightly increasing chance for CVD as you consume alcohol in weekdays\n",
        "- For females, however, the slope is much higher, indicating alcohol may have more influence over females in terms of causing CVD than males.\n",
        "\n",
        "\n"
      ],
      "metadata": {
        "id": "ACdQ01Rgqtnr"
      }
    },
    {
      "cell_type": "markdown",
      "source": [
        "# **Partial Correlation Network**"
      ],
      "metadata": {
        "id": "xqpzMEaYlDxO"
      }
    },
    {
      "cell_type": "markdown",
      "source": [
        "**Key Observations and Interpretations**\n",
        "\n",
        "- **Partial Correlation Network**: The image depicts a network where nodes represent variables (e.g., lifestyle factors, demographics, health conditions), and edges (lines) represent partial correlations between them. A partial correlation indicates the relationship between two variables after controlling for the influence of other variables in the network. This is important because it shows direct relationships rather than spurious ones.\n",
        "- **Density**: The network appears moderately dense, meaning there are a good number of connections between nodes. This suggests that many of the variables are interrelated.\n",
        "- **Layout**: The nodes are positioned around a circle, which makes it harder to see clusters, but it does make some connections clearer between opposing groups.\n",
        "- **Color Mapping and Betweenness Centrality**: Node color is determined by betweenness centrality, with redder nodes having higher betweenness and bluer nodes having lower betweenness. The color scale indicates the range of betweenness centrality values. This helps to visually identify which nodes act as bridges between different parts of the network.\n"
      ],
      "metadata": {
        "id": "74YVLBgLppXx"
      }
    },
    {
      "cell_type": "markdown",
      "source": [
        "**Centrality Measures**\n",
        "\n",
        "| Node           | Degree Centrality | Betweenness Centrality | Eigenvector Centrality |\n",
        "|----------------|-------------------|------------------------|------------------------|\n",
        "| CVD            | 0.789             | 0.0198                 | 0.225                 |\n",
        "| BMI            | 0.789             | 0.0193                 | 0.226                 |\n",
        "| cgtsmok        | 0.895             | 0.0311                 | 0.256                 |\n",
        "| alcfreq        | 0.947             | 0.0310                 | 0.275                 |\n",
        "| etfruit        | 0.842             | 0.0254                 | 0.239                 |\n",
        "| eatveg         | 0.632             | 0.0107                 | 0.174                 |\n",
        "| dosprt         | 0.737             | 0.0133                 | 0.213                 |\n",
        "| mainact        | 0.737             | 0.0109                 | 0.219                 |\n",
        "| slprl          | 0.895             | 0.0243                 | 0.260                 |\n",
        "| alcwkdy        | 0.579             | 0.0044                 | 0.168                 |\n",
        "| alcwknd        | 0.842             | 0.0188                 | 0.247                 |\n",
        "| ppltrst        | 0.737             | 0.0177                 | 0.206                 |\n",
        "| pplfair_r      | 0.579             | 0.0065                 | 0.156                 |\n",
        "| pplhlp_r       | 0.684             | 0.0127                 | 0.191                 |\n",
        "| agea           | 0.684             | 0.0074                 | 0.202                 |\n",
        "| gndr           | 0.842             | 0.0243                 | 0.241                 |\n",
        "| region_North   | 0.895             | 0.0312                 | 0.252                 |\n",
        "| region_South   | 0.789             | 0.0241                 | 0.221                 |\n",
        "| region_Unknown | 0.737             | 0.0108                 | 0.217                 |\n",
        "| region_West    | 0.842             | 0.0247                 | 0.240                 |"
      ],
      "metadata": {
        "id": "Ok_nsyv9lAPm"
      }
    },
    {
      "cell_type": "markdown",
      "source": [
        "# **Centrality Measures and Node Importance:**\n",
        "\n",
        "- **High Betweenness Centrality Nodes (Red/Orange)**:\n",
        "  - **alcfreq (Alcohol Frequency)**: A central node in the network, with many connections to other factors. Suggests alcohol frequency directly influences many parts of the whole network.\n",
        "  - **cgtsmok (Cigarette Smoking)**: Like alcfreq, a central node linking different factors, emphasizing the role of smoking in the health/lifestyle network.\n",
        "  - **region_North, region_South, region_West**: These \"region\" nodes being orange suggests that they are bridging variables that are not directly interacting among themselves, but are with other nodes, so the areas of north, south, and west tend to be correlated to different parts of the network.\n",
        "  - **etfruit (eaten fruits)**, also appears to be important by centrality\n",
        "- **Low Betweenness Centrality Nodes (Blue)**:\n",
        "  - **pplfair_r (Perception of Fairness)**: Low betweenness suggests that this node has fewer direct connections to bridge across other areas, which might suggest that it is more influenced by certain nodes over others.\n",
        "  - **alcwkdy (Alcohol on weekdays)**, similarly to pplfair_r, has fewer bridging components.\n",
        "  - agea\n",
        "- **Connecting observations with centrality measures:**\n",
        "  - **The ppltrst node** (trust in people) appearing as a lighter colour of gray suggests that it plays a somewhat neutral role, influencing different regions but not strongly correlated to specific ones.\n",
        "  - **BMI and CVD** both have a relatively grey/orange colour, representing that they also occupy important areas of the network, but less important than the nodes with the redder shade.\n",
        "\n",
        "# **General Interpretations & Hypotheses:**\n",
        "\n",
        "- **Lifestyle Factors and Health**: The network seems to highlight the strong interconnections between lifestyle factors (diet, alcohol, smoking, exercise) and health outcomes (BMI, potentially CVD, mental wellbeing etc.). The direct effects of these lifestyle factors are highlighted in the graph.\n",
        "- **Social Determinants**: Social determinants of health (like trust in people, fairness) might have more indirect effects in this network, influencing certain aspects (potentially psychological health or adherence to healthy behaviors) but not acting as central bridges.\n",
        "- **Region and Lifestyle**: The regional indicators suggest there might be some geographic differences in lifestyle patterns and health, independent of other factors.\n",
        "\n"
      ],
      "metadata": {
        "id": "0HrCOTXyoRIE"
      }
    },
    {
      "cell_type": "markdown",
      "source": [
        "**In summary**, this partial correlation network gives a useful overview of the direct relationships between various factors influencing health and lifestyle. The centrality measures, particularly betweenness, highlight the key nodes that act as bridges connecting different parts of the network. Further analysis, with the explicit values and strengths of each measure, and potentially more focused examination of subgroups of variables, would be needed for a more detailed understanding.\n"
      ],
      "metadata": {
        "id": "VdmI5ZHyoVGX"
      }
    },
    {
      "cell_type": "markdown",
      "source": [
        "#### 👉 See the plot at this link: https://github.com/jcdumlao14/ESS11DataAnalysis/blob/main/CFA_Inter_Marginal_Effects.ipynb"
      ],
      "metadata": {
        "id": "N8TZt8CTqcsd"
      }
    }
  ]
}