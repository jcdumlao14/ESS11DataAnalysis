{
  "nbformat": 4,
  "nbformat_minor": 0,
  "metadata": {
    "colab": {
      "provenance": [],
      "authorship_tag": "ABX9TyNwQ/OrJWFRr50uzyagzGvl",
      "include_colab_link": true
    },
    "kernelspec": {
      "name": "python3",
      "display_name": "Python 3"
    },
    "language_info": {
      "name": "python"
    }
  },
  "cells": [
    {
      "cell_type": "markdown",
      "metadata": {
        "id": "view-in-github",
        "colab_type": "text"
      },
      "source": [
        "<a href=\"https://colab.research.google.com/github/jcdumlao14/ESS11DataAnalysis/blob/main/Part2_Sensitivity_Analysis_and_Method_Comparison.ipynb\" target=\"_parent\"><img src=\"https://colab.research.google.com/assets/colab-badge.svg\" alt=\"Open In Colab\"/></a>"
      ]
    },
    {
      "cell_type": "markdown",
      "source": [
        "# **Part 2 Sensitivity Analysis and Method Comparison**"
      ],
      "metadata": {
        "id": "FBtz43u3e9cd"
      }
    },
    {
      "cell_type": "markdown",
      "source": [
        "# **Comparison of ATE: Complete Case vs. Imputed**\n",
        "\n",
        "In this analysis, we compared the Average Treatment Effect (ATE) estimates using two approaches to handle missing data: **Complete Case analysis and Imputation**.\n",
        "- **ATE Values**: Both methods produced the exact same estimate of **-3.34**, showing no difference between the two approaches.\n",
        "- **Confidence Intervals (CIs)**: The intervals are very wide, ranging from approximately **-40.6 to 33.9** for both methods. This indicates substantial uncertainty around the estimates.\n",
        "- **Consistency Across Methods**: Since both methods yielded the same ATE, we can conclude that missing data is not a major driver of variation or bias in this case.\n",
        "- **Uncertainty and Reliability**: The large width of the CIs highlights that while the point estimate is consistent, the results are imprecise. This reduces confidence in drawing strong conclusions from the ATE alone.\n",
        "\n",
        "\n"
      ],
      "metadata": {
        "id": "FKcOakT0WESG"
      }
    },
    {
      "cell_type": "markdown",
      "source": [
        "# **Comparison of ATE: Causal Forest vs. DML**\n",
        "This comparison highlights how different causal inference methods can produce varying estimates of the Average Treatment Effect (ATE).\n",
        "- **ATE Values**:\n",
        "   - Causal Forest estimated the ATE at **-3.34**, suggesting a small negative effect.\n",
        "   - DML (Double Machine Learning) estimated the ATE at **0.58**, pointing to a small positive effect.\n",
        "- **Confidence Intervals**:\n",
        "   - The Causal Forest estimate has a very wide confidence interval **(-40.6 to 33.9)**, which reflects substantial uncertainty.\n",
        "   - The DML estimate has a much narrower confidence interval **(-3.0 to 4.2)**, indicating greater precision.\n",
        "\n",
        "**Key Findings:**\n",
        "   - **Different Directions**: The methods disagree not only in magnitude but also in the direction of the effect (negative vs. positive).\n",
        "   - **Uncertainty Gap**: Causal Forest’s wide interval suggests it is more sensitive to noise or variability in the dataset. In contrast, DML provides a more stable and precise estimate.\n",
        "   - **Method Choice Matters**: The divergence between the two results underlines how the choice of causal method can meaningfully influence both the interpretation and reliability of findings"
      ],
      "metadata": {
        "id": "Ker-sc1cWENG"
      }
    },
    {
      "cell_type": "markdown",
      "source": [
        "# **Exclude Small-Sample Countries and Rerun Key Analyses**\n",
        "- **Data Sizes**:\n",
        " The dataset originally had **46,162 observations**, and after applying the “exclude small-sample countries” filter, the size is still **46,162**. This means that no countries were actually excluded. This could be because (a) the exclusion criteria were not triggered, or (b) the filtering step was not applied correctly.\n",
        "- **ATE (Large Countries)**:\n",
        " The ATE is **-3.34**, with a confidence interval ranging from **-40.6 to 33.9**. While the point estimate suggests a small negative effect, the extremely wide confidence interval shows high uncertainty, meaning the true effect could be negative, neutral, or even positive.\n",
        "\n",
        "- **Key Findings:**\n",
        "  - **No Change in Sample**: The dataset remained unchanged despite attempting to exclude small-sample countries.\n",
        "  - **Uncertain ATE**: The wide confidence interval makes the estimate unreliable and prevents strong conclusions about the treatment effect.\n",
        "\n",
        "\n"
      ],
      "metadata": {
        "id": "jc1nPiioWEHy"
      }
    },
    {
      "cell_type": "markdown",
      "source": [
        "# **Test Effect of Survey Weights: Weighted vs. Unweighted Results**\n",
        "- **ATE Estimates:**\n",
        "   - Unweighted: **-3.34** with a confidence interval of **-40.6 to 33.9**.\n",
        "   - Weighted: **-2.28** with a confidence interval of **-35.3 to 30.7**.\n",
        "- **Effect of Weighting**:\n",
        " Applying survey weights makes the ATE slightly less negative. This suggests that weighting adjusts the estimate in a way that may better represent the population distribution, accounting for sampling design.\n",
        "- **Confidence Intervals**:\n",
        " In both cases, the intervals are very wide, covering a broad range of possible values. This shows there is still high uncertainty in the results, regardless of whether weights are applied.\n",
        "\n",
        "- **Key Findings**:\n",
        "  - Weighting influences the point estimate but does not eliminate uncertainty.\n",
        "  - The direction of the effect remains similar (slightly negative), though the weighted result suggests a somewhat smaller effect size.\n",
        "  - Precision remains a problem, as the true ATE could still plausibly lie anywhere within the wide intervals.\n"
      ],
      "metadata": {
        "id": "6kM98MukWEBu"
      }
    },
    {
      "cell_type": "markdown",
      "source": [
        "# **Compute E-value**\n",
        "- **Metric Overview:**\n",
        " The E-value is a sensitivity analysis tool that evaluates how strongly an unmeasured confounder would need to be associated with both the treatment and the outcome to fully explain away the observed effect.\n",
        "- **Results:**\n",
        "  - **E-value: 6.14**. This means that an unmeasured confounder would need to have a risk ratio of at least 6.14 with both the treatment and outcome to account entirely for the observed association.\n",
        "  - **E-value Lower CI**: Reported as **67.31.** This number is unusually higher than the main E-value, which is inconsistent with standard reporting (the lower CI should typically be smaller). This may indicate a calculation or reporting issue.\n",
        "- **Key Findings:**\n",
        "  - **Robustness to Confounding**: The high E-value suggests that the observed effect is fairly robust. It would require a very strong unmeasured confounder to nullify the association.\n",
        "  - **Potential Inconsistency**: The fact that the lower CI is much larger than the main E-value is unusual and may point to an error. Normally, the CI bound reflects a weaker threshold, not a stronger one.\n",
        "\n",
        "\n"
      ],
      "metadata": {
        "id": "xiSgwJT2WD8_"
      }
    },
    {
      "cell_type": "markdown",
      "source": [
        "# **Summary Analysis**\n",
        "- **ATE Variability**: The estimated Average Treatment Effect (ATE) changes depending on the method used. Complete Case, Imputed, Causal Forest, Large Countries, and Unweighted analyses all converge on the same value (**-3.34**). In contrast, the DML and Weighted approaches produce different estimates, with DML shifting the ATE into positive territory (**0.58**) and weighting making it less negative (**-2.28**).\n",
        "- **High Uncertainty**: Most methods—including Complete Case, Imputed, Causal Forest, Large Countries, and Unweighted—share extremely wide confidence intervals (**-40.6 to 33.9**), which signals very low precision. Even the weighted analysis has wide bounds (**-35.3 to 30.7**), underscoring substantial uncertainty across approaches.\n",
        "- **DML Contrast**: The DML method stands out by producing a positive ATE and a much narrower confidence interval, indicating greater precision compared to the other methods.\n",
        "- **E-value**: The reported E-value indicates some robustness to unmeasured confounding. However, the unusually high lower confidence interval and missing/invalid upper bound suggest a calculation or interpretation issue that should be re-checked.\n",
        "- **Implications**: The results highlight how strongly the choice of method shapes both the magnitude and reliability of the ATE. Most methods yield highly uncertain estimates, while DML and Weighting reduce uncertainty but also alter the interpretation of the effect—shifting it toward positive or less negative.\n"
      ],
      "metadata": {
        "id": "y8FfKlSZWDa6"
      }
    },
    {
      "cell_type": "markdown",
      "source": [
        "### Refer to the plot for illustration in the link provided: https://github.com/jcdumlao14/ESS11DataAnalysis/blob/main/Sensitivity_Analysis_And_Method_Comparison.ipynb"
      ],
      "metadata": {
        "id": "9nv7ATYVeUUV"
      }
    }
  ]
}