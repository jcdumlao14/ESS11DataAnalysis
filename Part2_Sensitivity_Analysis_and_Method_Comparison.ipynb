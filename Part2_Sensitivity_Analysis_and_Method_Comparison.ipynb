{
  "nbformat": 4,
  "nbformat_minor": 0,
  "metadata": {
    "colab": {
      "provenance": [],
      "authorship_tag": "ABX9TyOjww+kEpzKmLqnvQ9K7+Y3",
      "include_colab_link": true
    },
    "kernelspec": {
      "name": "python3",
      "display_name": "Python 3"
    },
    "language_info": {
      "name": "python"
    }
  },
  "cells": [
    {
      "cell_type": "markdown",
      "metadata": {
        "id": "view-in-github",
        "colab_type": "text"
      },
      "source": [
        "<a href=\"https://colab.research.google.com/github/jcdumlao14/ESS11DataAnalysis/blob/main/Part2_Sensitivity_Analysis_and_Method_Comparison.ipynb\" target=\"_parent\"><img src=\"https://colab.research.google.com/assets/colab-badge.svg\" alt=\"Open In Colab\"/></a>"
      ]
    },
    {
      "cell_type": "markdown",
      "source": [
        "# **Part 2 Sensitivity Analysis and Method Comparison**"
      ],
      "metadata": {
        "id": "FBtz43u3e9cd"
      }
    },
    {
      "cell_type": "markdown",
      "source": [
        "# **Comparison of ATE: Complete Case vs. Imputed**\n",
        "\n",
        "In this analysis, we compared the Average Treatment Effect (ATE) estimates using two approaches to handle missing data: **Complete Case analysis and Imputation**.\n",
        "- **ATE Values**: Both methods produced the exact same estimate of **1.621**, showing no difference between the two approaches.\n",
        "- **Confidence Intervals (CIs)**: The intervals are very wide, ranging from approximately **-58 to 61** for both methods. This indicates substantial uncertainty around the estimates.\n",
        "- **Consistency Across Methods**: Since both methods yielded the same ATE, we can conclude that missing data is not a major driver of variation or bias in this case.\n",
        "- **Uncertainty and Reliability**: The large width of the CIs highlights that while the point estimate is consistent, the results are imprecise. This reduces confidence in drawing strong conclusions from the ATE alone.\n",
        "\n",
        "\n"
      ],
      "metadata": {
        "id": "FKcOakT0WESG"
      }
    },
    {
      "cell_type": "markdown",
      "source": [
        "# **Comparison of ATE: Causal Forest vs. DML**\n",
        "This comparison highlights how different causal inference methods can produce varying estimates of the Average Treatment Effect (ATE).\n",
        "- **ATE Values**:\n",
        "   - Causal Forest estimated the ATE at **1.621**.\n",
        "   - DML (Double Machine Learning) estimated the ATE at **1.529**.\n",
        "- **Confidence Intervals**:\n",
        "   - The Causal Forest estimate has a very wide confidence interval **(approximately -58 to 61)**, which reflects substantial uncertainty.\n",
        "   - The DML estimate has a much narrower confidence interval **(-1 to 4)**, indicating greater precision.\n",
        "\n",
        "**Key Findings:**\n",
        "   - Both methods estimate similar results, indicating that there is no divergence between the two results.\n",
        "   - The Causal Forest estimate has a wide confidence interval, suggesting it is more sensitive to noise or variability in the dataset.\n",
        "   - The divergence between the confidence interval suggest that the confidence can meaningfully influence both the interpretation and reliability of findings."
      ],
      "metadata": {
        "id": "Ker-sc1cWENG"
      }
    },
    {
      "cell_type": "markdown",
      "source": [
        "# **Exclude Small-Sample Countries and Rerun Key Analyses**\n",
        "- **Data Sizes**:\n",
        " The dataset originally had **46,162 observations**, and after applying the “exclude small-sample countries” filter, the size is still **46,162**. This means that no countries were actually excluded. This could be because (a) the exclusion criteria were not triggered, or (b) the filtering step was not applied correctly.\n",
        "- **ATE (Large Countries)**:\n",
        " The ATE is **1.6213**, with a confidence interval ranging from **-58.7259 to 61.9685**. While the point estimate suggests a small positive effect, the extremely wide confidence interval shows high uncertainty, meaning the true effect could be negative, neutral, or even positive.\n",
        "\n",
        "- **Key Findings:**\n",
        "  - **No Change in Sample**: The dataset remained unchanged despite attempting to exclude small-sample countries.\n",
        "  - **Uncertain ATE**: The wide confidence interval makes the estimate unreliable and prevents strong conclusions about the treatment effect.\n",
        "\n",
        "\n"
      ],
      "metadata": {
        "id": "jc1nPiioWEHy"
      }
    },
    {
      "cell_type": "markdown",
      "source": [
        "# **Test Effect of Survey Weights: Weighted vs. Unweighted Results**\n",
        "- **ATE Estimates:**\n",
        "   - Unweighted: **1.621** with a confidence interval of **-60 to 60**.\n",
        "   - Weighted: **-11.858** with a confidence interval of **-110 to 90**.\n",
        "- **Effect of Weighting**:\n",
        " Applying survey weights makes the ATE slightly positive to negative. This suggests that weighting significantly alters the estimate, potentially due to adjustments for sampling design and population representation.\n",
        "- **Confidence Intervals**:\n",
        " In both cases, the intervals are very wide, covering a broad range of possible values. This shows there is still high uncertainty in the results, regardless of whether weights are applied.\n",
        "\n",
        "- **Key Findings**:\n",
        "  - Weighting substantially influences the point estimate and highlights the importance of consederation survery design.\n",
        "  - Precision remains a problem, as the true ATE could still plausibly lie anywhere within the wide intervals, limiting the strength of conclusions.\n"
      ],
      "metadata": {
        "id": "6kM98MukWEBu"
      }
    },
    {
      "cell_type": "markdown",
      "source": [
        "# **Compute E-value**\n",
        "- **Metric Overview:**\n",
        " The E-value is a sensitivity analysis tool that evaluates how strongly an unmeasured confounder would need to be associated with both the treatment and the outcome to fully explain away the observed effect.\n",
        "- **Results:**\n",
        "  - **E-value: 10.34**. This means that an unmeasured confounder would need to have a risk ratio of at least 10.34 with both the treatment and outcome to account entirely for the observed association.\n",
        "  \n",
        "- **Key Findings:**\n",
        "  - **Robustness to Confounding**: The high E-value suggests that the observed effect is fairly robust. It would require a very strong unmeasured confounder to nullify the association.\n",
        "  \n",
        "\n"
      ],
      "metadata": {
        "id": "xiSgwJT2WD8_"
      }
    },
    {
      "cell_type": "markdown",
      "source": [
        "# **Summary Analysis**\n",
        "- **ATE Variability**: The estimated Average Treatment Effect (ATE) changes depending on the method used.\n",
        "  - Complete Case, Imputed, Causal Forest, Large Countries, and Unweighted analyses all converge on a similar value (approximately 1.62).\n",
        "  - DML produces a slightly different estimate (approximatly 1.53).\n",
        "  - The Weighted approach significantly shifts the ATE to -11.86.\n",
        "\n",
        "- **Confidence Intervals**:\n",
        "  - Complete Case, Imputed, Casusal Forest, Large Countries, and Unweighted analyses all have exteremely wide confidence intervals (approximately -58.73 to 61.97), signal very low precision.\n",
        "  - DML has a much narrow confidence interval (-3.42 to 6.48) suggesting greater precesion.\n",
        "  - The Weighted analysis has a wide confidence interval (-114.94 to 91.23)\n",
        "- **E-value**: The E-value is 2.62, with a lower confidence interval of 0.50. The upper confidence interval is missing. The E-value suggests some robustness to unmeasured confounding, but the missing upper confidence interval limits the interpretation.\n",
        "\n",
        "\n"
      ],
      "metadata": {
        "id": "y8FfKlSZWDa6"
      }
    },
    {
      "cell_type": "markdown",
      "source": [
        "### Refer to the plot for illustration in the link provided: https://github.com/jcdumlao14/ESS11DataAnalysis/blob/main/Sensitivity_Analysis_And_Method_Comparison.ipynb"
      ],
      "metadata": {
        "id": "9nv7ATYVeUUV"
      }
    }
  ]
}