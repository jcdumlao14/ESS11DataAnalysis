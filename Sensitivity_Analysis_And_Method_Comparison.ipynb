{
  "nbformat": 4,
  "nbformat_minor": 0,
  "metadata": {
    "colab": {
      "provenance": [],
      "authorship_tag": "ABX9TyP9YhWxNVa+VIQUk5GNMUs/",
      "include_colab_link": true
    },
    "kernelspec": {
      "name": "python3",
      "display_name": "Python 3"
    },
    "language_info": {
      "name": "python"
    }
  },
  "cells": [
    {
      "cell_type": "markdown",
      "metadata": {
        "id": "view-in-github",
        "colab_type": "text"
      },
      "source": [
        "<a href=\"https://colab.research.google.com/github/jcdumlao14/ESS11DataAnalysis/blob/main/Sensitivity_Analysis_And_Method_Comparison.ipynb\" target=\"_parent\"><img src=\"https://colab.research.google.com/assets/colab-badge.svg\" alt=\"Open In Colab\"/></a>"
      ]
    },
    {
      "cell_type": "markdown",
      "source": [
        "# **Sensitivity Analysis and Method Comparison**"
      ],
      "metadata": {
        "id": "eUcOLnZvW3bc"
      }
    },
    {
      "cell_type": "markdown",
      "source": [
        "## **A. Identifying Variables for Primary Analysis Steps**\n",
        "- **Y** (Binary CVD indicator variable - will be generated) The **hltprhc, hltprhb, hltphhc, hltphhb**.\n",
        "- **X** (Covariates) **agea, gndr, edulvlb, hinctnta cgtsmok, alcfreq, etfruit, eatveg, dosprt cntry imsmetn imdfetn impcntr polintr lrscale stflife**\n",
        "Treatments (W) or Causal ML (ATE + HTE) goal to check it.\n"
      ],
      "metadata": {
        "id": "C-pYAh-iX3kQ"
      }
    },
    {
      "cell_type": "markdown",
      "source": [
        "## **B. Identifying Variables for Sensitivity Checks**\n",
        "  1. **Complete-Case vs. Imputed Analysis**:\n",
        "     - To impute missing data, you need to identify variables with missingness. The code I supplied will try to drop the dataset.\n",
        "     - Likely candidates with missing data (you'll need to check this in the actual dataset):\n",
        "       - **hinctnta**: Household's total net income (Income questions are often sensitive).\n",
        "       - **edulvlb**: Higher level of education.\n",
        "       - Therefore this should be checked by:\n",
        "First, to make new data with imputation values on variables to compare with that data.\n",
        "\n",
        "  2. **Compare Causal Forest vs. TMLE vs. DML**: (This doesn't involve new variables, but requires implementing and comparing different ML models.)\n",
        "  3. **Exclude Small-Sample Countries**:\n",
        "     - Requires **cntry**: Country. You need to know the sample size per country and then filter the data accordingly. This isn't a variable used in the model, but rather used to subset the data.\n",
        "     - This step reduces bias by reducing country effects that don't match each other, since not all parameters exist in each country.\n",
        "\n",
        "  4. **Test Effect of Survey Weights**:\n",
        "     - Requires weight variables (essential from the start):\n",
        "        - **dweight**: Design weight\n",
        "        - **pspwght**: Post-stratification weight including design weight\n",
        "        - **pweight**: Population size weight (if appropriate – must combine with dweight or pspwght)\n",
        "        - Compare results using CausalForestDML with and without these weights in the .fit() method.\n",
        "  5. **Compute E-Value**: (Relies on having ATE point estimates and confidence intervals from your main model. E-value calculation does not involve more specific ESS variables.)\n",
        "\n"
      ],
      "metadata": {
        "id": "c3XtANsFYLug"
      }
    },
    {
      "cell_type": "markdown",
      "source": [
        "## **C. Creating Composite Variables or Performing Transformations**\n",
        "Note, that it depends to the quality of result, but using that or not is depend on data and experience\n",
        "  - **BMI**: Needs to be calculated.\n",
        "     - Requires **weighta**: Weight of respondent (kg)\n",
        "     - Requires **height**: Height of respondent (cm)\n",
        "  - region: Need to create by your own, using \"North, South, East, West\" list by code (see before).\n"
      ],
      "metadata": {
        "id": "aOj7Fu0EaxEw"
      }
    },
    {
      "cell_type": "markdown",
      "source": [
        "## **D. File Outputs**\n",
        " - **tables/sensitivity_summary.csv**: This CSV file will summarize the results of your sensitivity checks (ATE point estimates, CIs, E-values, etc.) for each robustness check performed.\n",
        " - **fig_sensitivity_plot.png**: A figure (likely a forest plot or similar) visualizing the range of ATE estimates across your sensitivity analyses.\n",
        "Remember it for reports and keep it save\n"
      ],
      "metadata": {
        "id": "5YW4ainhbYzL"
      }
    },
    {
      "cell_type": "markdown",
      "source": [
        "# **Installing Dependencies**"
      ],
      "metadata": {
        "id": "lQ2NvskEW6zd"
      }
    },
    {
      "cell_type": "code",
      "source": [
        "!pip install econml"
      ],
      "metadata": {
        "colab": {
          "base_uri": "https://localhost:8080/"
        },
        "id": "GHqu3m3pRpS8",
        "outputId": "4ba168b2-1c9d-4cd2-aa02-5db5d6e78989"
      },
      "execution_count": null,
      "outputs": [
        {
          "output_type": "stream",
          "name": "stdout",
          "text": [
            "Collecting econml\n",
            "  Downloading econml-0.16.0-cp312-cp312-manylinux_2_17_x86_64.manylinux2014_x86_64.whl.metadata (37 kB)\n",
            "Requirement already satisfied: numpy in /usr/local/lib/python3.12/dist-packages (from econml) (2.0.2)\n",
            "Requirement already satisfied: scipy>1.4.0 in /usr/local/lib/python3.12/dist-packages (from econml) (1.16.2)\n",
            "Requirement already satisfied: scikit-learn<1.7,>=1.0 in /usr/local/lib/python3.12/dist-packages (from econml) (1.6.1)\n",
            "Collecting sparse (from econml)\n",
            "  Downloading sparse-0.17.0-py2.py3-none-any.whl.metadata (5.3 kB)\n",
            "Requirement already satisfied: joblib>=0.13.0 in /usr/local/lib/python3.12/dist-packages (from econml) (1.5.2)\n",
            "Requirement already satisfied: statsmodels>=0.10 in /usr/local/lib/python3.12/dist-packages (from econml) (0.14.5)\n",
            "Requirement already satisfied: pandas>1.0 in /usr/local/lib/python3.12/dist-packages (from econml) (2.2.2)\n",
            "Requirement already satisfied: shap<0.49.0,>=0.38.1 in /usr/local/lib/python3.12/dist-packages (from econml) (0.48.0)\n",
            "Requirement already satisfied: lightgbm in /usr/local/lib/python3.12/dist-packages (from econml) (4.6.0)\n",
            "Requirement already satisfied: packaging in /usr/local/lib/python3.12/dist-packages (from econml) (25.0)\n",
            "Requirement already satisfied: python-dateutil>=2.8.2 in /usr/local/lib/python3.12/dist-packages (from pandas>1.0->econml) (2.9.0.post0)\n",
            "Requirement already satisfied: pytz>=2020.1 in /usr/local/lib/python3.12/dist-packages (from pandas>1.0->econml) (2025.2)\n",
            "Requirement already satisfied: tzdata>=2022.7 in /usr/local/lib/python3.12/dist-packages (from pandas>1.0->econml) (2025.2)\n",
            "Requirement already satisfied: threadpoolctl>=3.1.0 in /usr/local/lib/python3.12/dist-packages (from scikit-learn<1.7,>=1.0->econml) (3.6.0)\n",
            "Requirement already satisfied: tqdm>=4.27.0 in /usr/local/lib/python3.12/dist-packages (from shap<0.49.0,>=0.38.1->econml) (4.67.1)\n",
            "Requirement already satisfied: slicer==0.0.8 in /usr/local/lib/python3.12/dist-packages (from shap<0.49.0,>=0.38.1->econml) (0.0.8)\n",
            "Requirement already satisfied: numba>=0.54 in /usr/local/lib/python3.12/dist-packages (from shap<0.49.0,>=0.38.1->econml) (0.60.0)\n",
            "Requirement already satisfied: cloudpickle in /usr/local/lib/python3.12/dist-packages (from shap<0.49.0,>=0.38.1->econml) (3.1.1)\n",
            "Requirement already satisfied: typing-extensions in /usr/local/lib/python3.12/dist-packages (from shap<0.49.0,>=0.38.1->econml) (4.15.0)\n",
            "Requirement already satisfied: patsy>=0.5.6 in /usr/local/lib/python3.12/dist-packages (from statsmodels>=0.10->econml) (1.0.1)\n",
            "Requirement already satisfied: llvmlite<0.44,>=0.43.0dev0 in /usr/local/lib/python3.12/dist-packages (from numba>=0.54->shap<0.49.0,>=0.38.1->econml) (0.43.0)\n",
            "Requirement already satisfied: six>=1.5 in /usr/local/lib/python3.12/dist-packages (from python-dateutil>=2.8.2->pandas>1.0->econml) (1.17.0)\n",
            "Downloading econml-0.16.0-cp312-cp312-manylinux_2_17_x86_64.manylinux2014_x86_64.whl (5.4 MB)\n",
            "\u001b[2K   \u001b[90m━━━━━━━━━━━━━━━━━━━━━━━━━━━━━━━━━━━━━━━━\u001b[0m \u001b[32m5.4/5.4 MB\u001b[0m \u001b[31m31.4 MB/s\u001b[0m eta \u001b[36m0:00:00\u001b[0m\n",
            "\u001b[?25hDownloading sparse-0.17.0-py2.py3-none-any.whl (259 kB)\n",
            "\u001b[2K   \u001b[90m━━━━━━━━━━━━━━━━━━━━━━━━━━━━━━━━━━━━━━━━\u001b[0m \u001b[32m259.4/259.4 kB\u001b[0m \u001b[31m17.9 MB/s\u001b[0m eta \u001b[36m0:00:00\u001b[0m\n",
            "\u001b[?25hInstalling collected packages: sparse, econml\n",
            "Successfully installed econml-0.16.0 sparse-0.17.0\n"
          ]
        }
      ]
    },
    {
      "cell_type": "markdown",
      "source": [
        "Reference: https://www.pywhy.org/EconML/_autosummary/econml.dml.CausalForestDML.html"
      ],
      "metadata": {
        "id": "q03SE2Ix544-"
      }
    },
    {
      "cell_type": "markdown",
      "source": [
        "# **Import Libraries**"
      ],
      "metadata": {
        "id": "arV-YOmDOxch"
      }
    },
    {
      "cell_type": "code",
      "source": [
        "import pandas as pd\n",
        "import numpy as np\n",
        "from sklearn.model_selection import train_test_split\n",
        "from sklearn.impute import SimpleImputer\n",
        "from sklearn.ensemble import RandomForestRegressor, RandomForestClassifier\n",
        "from sklearn.linear_model import LogisticRegression\n",
        "from sklearn.metrics import roc_auc_score, mean_squared_error\n",
        "import statsmodels.api as sm\n",
        "import matplotlib.pyplot as plt\n",
        "import seaborn as sns\n",
        "from econml.dml import CausalForestDML\n",
        "from econml.dml import DML\n",
        "from econml.sklearn_extensions.linear_model import StatsModelsLinearRegression  # Import StatsModelsLinearRegression\n",
        "from econml.dml import LinearDML, SparseLinearDML\n",
        "from scipy.stats import norm\n",
        "\n",
        "\n",
        "import warnings\n",
        "warnings.filterwarnings('ignore')\n",
        "import statsmodels.formula.api as smf  # Import for regression models and formulas\n",
        "import os  # Import the os module"
      ],
      "metadata": {
        "id": "wHIcV9QAmhee"
      },
      "execution_count": null,
      "outputs": []
    },
    {
      "cell_type": "markdown",
      "source": [
        "# **E-value Function**"
      ],
      "metadata": {
        "id": "-dautf5nO2aB"
      }
    },
    {
      "cell_type": "code",
      "source": [
        "# E-value function (Rosenbaum sensitivity value)\n",
        "def compute_e_value(ate, ate_lower, ate_upper):\n",
        "    \"\"\"Computes the E-value for a given ATE and confidence interval.\"\"\"\n",
        "    if ate > 0:\n",
        "        risk_ratio = ate\n",
        "        lower_ci = ate_lower\n",
        "    else:\n",
        "        risk_ratio = -ate\n",
        "        lower_ci = ate_upper\n",
        "\n",
        "    e_value = risk_ratio + np.sqrt(risk_ratio * (risk_ratio - 1))\n",
        "    e_value_lower_ci = lower_ci + np.sqrt(lower_ci * (lower_ci - 1))\n",
        "    return e_value, e_value_lower_ci\n"
      ],
      "metadata": {
        "id": "kj71ptLXp6SK"
      },
      "execution_count": null,
      "outputs": []
    },
    {
      "cell_type": "markdown",
      "source": [
        "# **Load Dataset**"
      ],
      "metadata": {
        "id": "s1QhITHYPCnZ"
      }
    },
    {
      "cell_type": "code",
      "source": [
        "# Load dataset\n",
        "try:\n",
        "    df = pd.read_csv('/content/ESS11.csv')\n",
        "except FileNotFoundError:\n",
        "    raise FileNotFoundError(\"Dataset file not found. Check /content/ESS11.csv path.\")\n"
      ],
      "metadata": {
        "id": "fuFfnb2Op-II"
      },
      "execution_count": null,
      "outputs": []
    },
    {
      "cell_type": "markdown",
      "source": [
        "# **Data Cleaning & Required Cols**"
      ],
      "metadata": {
        "id": "HrfHa47OPJVF"
      }
    },
    {
      "cell_type": "code",
      "source": [
        "# Data cleaning & required cols\n",
        "key_cols = ['weighta', 'height', 'etfruit', 'eatveg', 'dosprt','mainact','slprl','alcwkdy','alcwknd',\"hltprhc\", \"hltprhb\", \"hltphhc\", \"hltphhb\",\n",
        "            'cgtsmok', 'alcfreq', 'edulvlb', 'hinctnta', 'gndr','cntry', 'dweight', 'pspwght','agea']\n",
        "# Check that required columns exist\n",
        "missing_cols = [c for c in key_cols if c not in df.columns]\n",
        "if missing_cols:\n",
        "    raise KeyError(f\"The following required columns are missing from the dataframe: {missing_cols}\")\n",
        "\n",
        "df = df.dropna(subset=key_cols).copy()\n",
        "print(f\"Step 1: Dropped rows with NA in key columns. Remaining rows: {len(df)}\")"
      ],
      "metadata": {
        "colab": {
          "base_uri": "https://localhost:8080/"
        },
        "id": "_xv8JEDBp-E5",
        "outputId": "151f1957-4a56-4a4d-8176-646deb929c3c"
      },
      "execution_count": null,
      "outputs": [
        {
          "output_type": "stream",
          "name": "stdout",
          "text": [
            "Step 1: Dropped rows with NA in key columns. Remaining rows: 46162\n"
          ]
        }
      ]
    },
    {
      "cell_type": "code",
      "source": [
        "# Convert columns to numeric, handling errors\n",
        "cols_to_convert = [\"hltprhc\", \"hltprhb\", \"hltphhc\", \"hltphhb\"]\n",
        "for col in cols_to_convert:\n",
        "    df[col] = pd.to_numeric(df[col], errors='coerce') # Convert to numeric and coerce errors to NaN\n",
        "\n",
        "# Impute missing values\n",
        "df[cols_to_convert] = df[cols_to_convert].fillna(0)\n",
        "\n",
        "# Add the new CVD column\n",
        "df[\"CVD\"] = df[[\"hltprhc\", \"hltprhb\", \"hltphhc\", \"hltphhb\"]].sum(axis=1)\n",
        "print(\"Step 2: Add Column hltprhc, hltprhb, hltphhc, hltphhb to 'CVD'\")\n"
      ],
      "metadata": {
        "colab": {
          "base_uri": "https://localhost:8080/"
        },
        "id": "acC3HZJs4cNo",
        "outputId": "e9474849-4fbd-49f2-ec00-566d5baa457e"
      },
      "execution_count": null,
      "outputs": [
        {
          "output_type": "stream",
          "name": "stdout",
          "text": [
            "Step 2: Add Column hltprhc, hltprhb, hltphhc, hltphhb to 'CVD'\n"
          ]
        }
      ]
    },
    {
      "cell_type": "code",
      "source": [
        "# Convert height from cm to meters and compute BMI\n",
        "df['height_m'] = df['height'] / 10.0\n",
        "df['BMI'] = df['weighta'] / (df['height_m'] ** 2)\n",
        "df = df[np.isfinite(df['BMI'])].copy()\n",
        "print(\"Step 3: Calculated BMI and removed infinite values.\")"
      ],
      "metadata": {
        "colab": {
          "base_uri": "https://localhost:8080/"
        },
        "id": "GibZ-YNcp-A5",
        "outputId": "8506d090-0567-42ab-896f-c1f0c68ae0b5"
      },
      "execution_count": null,
      "outputs": [
        {
          "output_type": "stream",
          "name": "stdout",
          "text": [
            "Step 3: Calculated BMI and removed infinite values.\n"
          ]
        }
      ]
    },
    {
      "cell_type": "code",
      "source": [
        "df.head()"
      ],
      "metadata": {
        "colab": {
          "base_uri": "https://localhost:8080/",
          "height": 429
        },
        "id": "ZeOk77el7V9I",
        "outputId": "c27505ef-89ab-47da-9c99-737300429390"
      },
      "execution_count": null,
      "outputs": [
        {
          "output_type": "execute_result",
          "data": {
            "text/plain": [
              "       name  essround  edition    proddate   idno cntry   dweight   pspwght  \\\n",
              "0  ESS11e03        11      3.0  02.06.2025  50014    AT  1.185115  0.392891   \n",
              "1  ESS11e03        11      3.0  02.06.2025  50030    AT  0.609898  0.325153   \n",
              "2  ESS11e03        11      3.0  02.06.2025  50057    AT  1.392330  4.000023   \n",
              "3  ESS11e03        11      3.0  02.06.2025  50106    AT  0.556061  0.176228   \n",
              "4  ESS11e03        11      3.0  02.06.2025  50145    AT  0.722795  1.060940   \n",
              "\n",
              "    pweight  anweight  ...                jinwe  inwtm  mode  domain  \\\n",
              "0  0.330915  0.130013  ...  2023-11-12 15:26:55   30.0     1     2.0   \n",
              "1  0.330915  0.107598  ...  2023-10-18 10:44:18   40.0     1     1.0   \n",
              "2  0.330915  1.323666  ...  2023-09-30 14:13:33   42.0     1     2.0   \n",
              "3  0.330915  0.058316  ...  2023-06-30 15:11:21   34.0     1     1.0   \n",
              "4  0.330915  0.351080  ...  2023-07-11 11:14:03   57.0     1     2.0   \n",
              "\n",
              "       prob  stratum  psu  CVD  height_m       BMI  \n",
              "0  0.000579      107  317    1      17.8  0.284055  \n",
              "1  0.001124       69  128    1      16.8  0.262188  \n",
              "2  0.000493       18  418    0      18.0  0.293210  \n",
              "3  0.001233      101  295    1      16.7  0.250995  \n",
              "4  0.000949      115  344    0      16.8  0.237387  \n",
              "\n",
              "[5 rows x 679 columns]"
            ],
            "text/html": [
              "\n",
              "  <div id=\"df-ba71b6d7-73cb-4871-8a30-2795ce6cd9e2\" class=\"colab-df-container\">\n",
              "    <div>\n",
              "<style scoped>\n",
              "    .dataframe tbody tr th:only-of-type {\n",
              "        vertical-align: middle;\n",
              "    }\n",
              "\n",
              "    .dataframe tbody tr th {\n",
              "        vertical-align: top;\n",
              "    }\n",
              "\n",
              "    .dataframe thead th {\n",
              "        text-align: right;\n",
              "    }\n",
              "</style>\n",
              "<table border=\"1\" class=\"dataframe\">\n",
              "  <thead>\n",
              "    <tr style=\"text-align: right;\">\n",
              "      <th></th>\n",
              "      <th>name</th>\n",
              "      <th>essround</th>\n",
              "      <th>edition</th>\n",
              "      <th>proddate</th>\n",
              "      <th>idno</th>\n",
              "      <th>cntry</th>\n",
              "      <th>dweight</th>\n",
              "      <th>pspwght</th>\n",
              "      <th>pweight</th>\n",
              "      <th>anweight</th>\n",
              "      <th>...</th>\n",
              "      <th>jinwe</th>\n",
              "      <th>inwtm</th>\n",
              "      <th>mode</th>\n",
              "      <th>domain</th>\n",
              "      <th>prob</th>\n",
              "      <th>stratum</th>\n",
              "      <th>psu</th>\n",
              "      <th>CVD</th>\n",
              "      <th>height_m</th>\n",
              "      <th>BMI</th>\n",
              "    </tr>\n",
              "  </thead>\n",
              "  <tbody>\n",
              "    <tr>\n",
              "      <th>0</th>\n",
              "      <td>ESS11e03</td>\n",
              "      <td>11</td>\n",
              "      <td>3.0</td>\n",
              "      <td>02.06.2025</td>\n",
              "      <td>50014</td>\n",
              "      <td>AT</td>\n",
              "      <td>1.185115</td>\n",
              "      <td>0.392891</td>\n",
              "      <td>0.330915</td>\n",
              "      <td>0.130013</td>\n",
              "      <td>...</td>\n",
              "      <td>2023-11-12 15:26:55</td>\n",
              "      <td>30.0</td>\n",
              "      <td>1</td>\n",
              "      <td>2.0</td>\n",
              "      <td>0.000579</td>\n",
              "      <td>107</td>\n",
              "      <td>317</td>\n",
              "      <td>1</td>\n",
              "      <td>17.8</td>\n",
              "      <td>0.284055</td>\n",
              "    </tr>\n",
              "    <tr>\n",
              "      <th>1</th>\n",
              "      <td>ESS11e03</td>\n",
              "      <td>11</td>\n",
              "      <td>3.0</td>\n",
              "      <td>02.06.2025</td>\n",
              "      <td>50030</td>\n",
              "      <td>AT</td>\n",
              "      <td>0.609898</td>\n",
              "      <td>0.325153</td>\n",
              "      <td>0.330915</td>\n",
              "      <td>0.107598</td>\n",
              "      <td>...</td>\n",
              "      <td>2023-10-18 10:44:18</td>\n",
              "      <td>40.0</td>\n",
              "      <td>1</td>\n",
              "      <td>1.0</td>\n",
              "      <td>0.001124</td>\n",
              "      <td>69</td>\n",
              "      <td>128</td>\n",
              "      <td>1</td>\n",
              "      <td>16.8</td>\n",
              "      <td>0.262188</td>\n",
              "    </tr>\n",
              "    <tr>\n",
              "      <th>2</th>\n",
              "      <td>ESS11e03</td>\n",
              "      <td>11</td>\n",
              "      <td>3.0</td>\n",
              "      <td>02.06.2025</td>\n",
              "      <td>50057</td>\n",
              "      <td>AT</td>\n",
              "      <td>1.392330</td>\n",
              "      <td>4.000023</td>\n",
              "      <td>0.330915</td>\n",
              "      <td>1.323666</td>\n",
              "      <td>...</td>\n",
              "      <td>2023-09-30 14:13:33</td>\n",
              "      <td>42.0</td>\n",
              "      <td>1</td>\n",
              "      <td>2.0</td>\n",
              "      <td>0.000493</td>\n",
              "      <td>18</td>\n",
              "      <td>418</td>\n",
              "      <td>0</td>\n",
              "      <td>18.0</td>\n",
              "      <td>0.293210</td>\n",
              "    </tr>\n",
              "    <tr>\n",
              "      <th>3</th>\n",
              "      <td>ESS11e03</td>\n",
              "      <td>11</td>\n",
              "      <td>3.0</td>\n",
              "      <td>02.06.2025</td>\n",
              "      <td>50106</td>\n",
              "      <td>AT</td>\n",
              "      <td>0.556061</td>\n",
              "      <td>0.176228</td>\n",
              "      <td>0.330915</td>\n",
              "      <td>0.058316</td>\n",
              "      <td>...</td>\n",
              "      <td>2023-06-30 15:11:21</td>\n",
              "      <td>34.0</td>\n",
              "      <td>1</td>\n",
              "      <td>1.0</td>\n",
              "      <td>0.001233</td>\n",
              "      <td>101</td>\n",
              "      <td>295</td>\n",
              "      <td>1</td>\n",
              "      <td>16.7</td>\n",
              "      <td>0.250995</td>\n",
              "    </tr>\n",
              "    <tr>\n",
              "      <th>4</th>\n",
              "      <td>ESS11e03</td>\n",
              "      <td>11</td>\n",
              "      <td>3.0</td>\n",
              "      <td>02.06.2025</td>\n",
              "      <td>50145</td>\n",
              "      <td>AT</td>\n",
              "      <td>0.722795</td>\n",
              "      <td>1.060940</td>\n",
              "      <td>0.330915</td>\n",
              "      <td>0.351080</td>\n",
              "      <td>...</td>\n",
              "      <td>2023-07-11 11:14:03</td>\n",
              "      <td>57.0</td>\n",
              "      <td>1</td>\n",
              "      <td>2.0</td>\n",
              "      <td>0.000949</td>\n",
              "      <td>115</td>\n",
              "      <td>344</td>\n",
              "      <td>0</td>\n",
              "      <td>16.8</td>\n",
              "      <td>0.237387</td>\n",
              "    </tr>\n",
              "  </tbody>\n",
              "</table>\n",
              "<p>5 rows × 679 columns</p>\n",
              "</div>\n",
              "    <div class=\"colab-df-buttons\">\n",
              "\n",
              "  <div class=\"colab-df-container\">\n",
              "    <button class=\"colab-df-convert\" onclick=\"convertToInteractive('df-ba71b6d7-73cb-4871-8a30-2795ce6cd9e2')\"\n",
              "            title=\"Convert this dataframe to an interactive table.\"\n",
              "            style=\"display:none;\">\n",
              "\n",
              "  <svg xmlns=\"http://www.w3.org/2000/svg\" height=\"24px\" viewBox=\"0 -960 960 960\">\n",
              "    <path d=\"M120-120v-720h720v720H120Zm60-500h600v-160H180v160Zm220 220h160v-160H400v160Zm0 220h160v-160H400v160ZM180-400h160v-160H180v160Zm440 0h160v-160H620v160ZM180-180h160v-160H180v160Zm440 0h160v-160H620v160Z\"/>\n",
              "  </svg>\n",
              "    </button>\n",
              "\n",
              "  <style>\n",
              "    .colab-df-container {\n",
              "      display:flex;\n",
              "      gap: 12px;\n",
              "    }\n",
              "\n",
              "    .colab-df-convert {\n",
              "      background-color: #E8F0FE;\n",
              "      border: none;\n",
              "      border-radius: 50%;\n",
              "      cursor: pointer;\n",
              "      display: none;\n",
              "      fill: #1967D2;\n",
              "      height: 32px;\n",
              "      padding: 0 0 0 0;\n",
              "      width: 32px;\n",
              "    }\n",
              "\n",
              "    .colab-df-convert:hover {\n",
              "      background-color: #E2EBFA;\n",
              "      box-shadow: 0px 1px 2px rgba(60, 64, 67, 0.3), 0px 1px 3px 1px rgba(60, 64, 67, 0.15);\n",
              "      fill: #174EA6;\n",
              "    }\n",
              "\n",
              "    .colab-df-buttons div {\n",
              "      margin-bottom: 4px;\n",
              "    }\n",
              "\n",
              "    [theme=dark] .colab-df-convert {\n",
              "      background-color: #3B4455;\n",
              "      fill: #D2E3FC;\n",
              "    }\n",
              "\n",
              "    [theme=dark] .colab-df-convert:hover {\n",
              "      background-color: #434B5C;\n",
              "      box-shadow: 0px 1px 3px 1px rgba(0, 0, 0, 0.15);\n",
              "      filter: drop-shadow(0px 1px 2px rgba(0, 0, 0, 0.3));\n",
              "      fill: #FFFFFF;\n",
              "    }\n",
              "  </style>\n",
              "\n",
              "    <script>\n",
              "      const buttonEl =\n",
              "        document.querySelector('#df-ba71b6d7-73cb-4871-8a30-2795ce6cd9e2 button.colab-df-convert');\n",
              "      buttonEl.style.display =\n",
              "        google.colab.kernel.accessAllowed ? 'block' : 'none';\n",
              "\n",
              "      async function convertToInteractive(key) {\n",
              "        const element = document.querySelector('#df-ba71b6d7-73cb-4871-8a30-2795ce6cd9e2');\n",
              "        const dataTable =\n",
              "          await google.colab.kernel.invokeFunction('convertToInteractive',\n",
              "                                                    [key], {});\n",
              "        if (!dataTable) return;\n",
              "\n",
              "        const docLinkHtml = 'Like what you see? Visit the ' +\n",
              "          '<a target=\"_blank\" href=https://colab.research.google.com/notebooks/data_table.ipynb>data table notebook</a>'\n",
              "          + ' to learn more about interactive tables.';\n",
              "        element.innerHTML = '';\n",
              "        dataTable['output_type'] = 'display_data';\n",
              "        await google.colab.output.renderOutput(dataTable, element);\n",
              "        const docLink = document.createElement('div');\n",
              "        docLink.innerHTML = docLinkHtml;\n",
              "        element.appendChild(docLink);\n",
              "      }\n",
              "    </script>\n",
              "  </div>\n",
              "\n",
              "\n",
              "    <div id=\"df-1034a376-dc65-4683-9dde-d009ce64164c\">\n",
              "      <button class=\"colab-df-quickchart\" onclick=\"quickchart('df-1034a376-dc65-4683-9dde-d009ce64164c')\"\n",
              "                title=\"Suggest charts\"\n",
              "                style=\"display:none;\">\n",
              "\n",
              "<svg xmlns=\"http://www.w3.org/2000/svg\" height=\"24px\"viewBox=\"0 0 24 24\"\n",
              "     width=\"24px\">\n",
              "    <g>\n",
              "        <path d=\"M19 3H5c-1.1 0-2 .9-2 2v14c0 1.1.9 2 2 2h14c1.1 0 2-.9 2-2V5c0-1.1-.9-2-2-2zM9 17H7v-7h2v7zm4 0h-2V7h2v10zm4 0h-2v-4h2v4z\"/>\n",
              "    </g>\n",
              "</svg>\n",
              "      </button>\n",
              "\n",
              "<style>\n",
              "  .colab-df-quickchart {\n",
              "      --bg-color: #E8F0FE;\n",
              "      --fill-color: #1967D2;\n",
              "      --hover-bg-color: #E2EBFA;\n",
              "      --hover-fill-color: #174EA6;\n",
              "      --disabled-fill-color: #AAA;\n",
              "      --disabled-bg-color: #DDD;\n",
              "  }\n",
              "\n",
              "  [theme=dark] .colab-df-quickchart {\n",
              "      --bg-color: #3B4455;\n",
              "      --fill-color: #D2E3FC;\n",
              "      --hover-bg-color: #434B5C;\n",
              "      --hover-fill-color: #FFFFFF;\n",
              "      --disabled-bg-color: #3B4455;\n",
              "      --disabled-fill-color: #666;\n",
              "  }\n",
              "\n",
              "  .colab-df-quickchart {\n",
              "    background-color: var(--bg-color);\n",
              "    border: none;\n",
              "    border-radius: 50%;\n",
              "    cursor: pointer;\n",
              "    display: none;\n",
              "    fill: var(--fill-color);\n",
              "    height: 32px;\n",
              "    padding: 0;\n",
              "    width: 32px;\n",
              "  }\n",
              "\n",
              "  .colab-df-quickchart:hover {\n",
              "    background-color: var(--hover-bg-color);\n",
              "    box-shadow: 0 1px 2px rgba(60, 64, 67, 0.3), 0 1px 3px 1px rgba(60, 64, 67, 0.15);\n",
              "    fill: var(--button-hover-fill-color);\n",
              "  }\n",
              "\n",
              "  .colab-df-quickchart-complete:disabled,\n",
              "  .colab-df-quickchart-complete:disabled:hover {\n",
              "    background-color: var(--disabled-bg-color);\n",
              "    fill: var(--disabled-fill-color);\n",
              "    box-shadow: none;\n",
              "  }\n",
              "\n",
              "  .colab-df-spinner {\n",
              "    border: 2px solid var(--fill-color);\n",
              "    border-color: transparent;\n",
              "    border-bottom-color: var(--fill-color);\n",
              "    animation:\n",
              "      spin 1s steps(1) infinite;\n",
              "  }\n",
              "\n",
              "  @keyframes spin {\n",
              "    0% {\n",
              "      border-color: transparent;\n",
              "      border-bottom-color: var(--fill-color);\n",
              "      border-left-color: var(--fill-color);\n",
              "    }\n",
              "    20% {\n",
              "      border-color: transparent;\n",
              "      border-left-color: var(--fill-color);\n",
              "      border-top-color: var(--fill-color);\n",
              "    }\n",
              "    30% {\n",
              "      border-color: transparent;\n",
              "      border-left-color: var(--fill-color);\n",
              "      border-top-color: var(--fill-color);\n",
              "      border-right-color: var(--fill-color);\n",
              "    }\n",
              "    40% {\n",
              "      border-color: transparent;\n",
              "      border-right-color: var(--fill-color);\n",
              "      border-top-color: var(--fill-color);\n",
              "    }\n",
              "    60% {\n",
              "      border-color: transparent;\n",
              "      border-right-color: var(--fill-color);\n",
              "    }\n",
              "    80% {\n",
              "      border-color: transparent;\n",
              "      border-right-color: var(--fill-color);\n",
              "      border-bottom-color: var(--fill-color);\n",
              "    }\n",
              "    90% {\n",
              "      border-color: transparent;\n",
              "      border-bottom-color: var(--fill-color);\n",
              "    }\n",
              "  }\n",
              "</style>\n",
              "\n",
              "      <script>\n",
              "        async function quickchart(key) {\n",
              "          const quickchartButtonEl =\n",
              "            document.querySelector('#' + key + ' button');\n",
              "          quickchartButtonEl.disabled = true;  // To prevent multiple clicks.\n",
              "          quickchartButtonEl.classList.add('colab-df-spinner');\n",
              "          try {\n",
              "            const charts = await google.colab.kernel.invokeFunction(\n",
              "                'suggestCharts', [key], {});\n",
              "          } catch (error) {\n",
              "            console.error('Error during call to suggestCharts:', error);\n",
              "          }\n",
              "          quickchartButtonEl.classList.remove('colab-df-spinner');\n",
              "          quickchartButtonEl.classList.add('colab-df-quickchart-complete');\n",
              "        }\n",
              "        (() => {\n",
              "          let quickchartButtonEl =\n",
              "            document.querySelector('#df-1034a376-dc65-4683-9dde-d009ce64164c button');\n",
              "          quickchartButtonEl.style.display =\n",
              "            google.colab.kernel.accessAllowed ? 'block' : 'none';\n",
              "        })();\n",
              "      </script>\n",
              "    </div>\n",
              "\n",
              "    </div>\n",
              "  </div>\n"
            ],
            "application/vnd.google.colaboratory.intrinsic+json": {
              "type": "dataframe",
              "variable_name": "df"
            }
          },
          "metadata": {},
          "execution_count": 9
        }
      ]
    },
    {
      "cell_type": "code",
      "source": [
        "# Ensure CVD is binary/int (map or cast if necessary)\n",
        "if df['CVD'].dtype == object:\n",
        "    # try simple mapping\n",
        "    df['CVD'] = df['CVD'].map(lambda x: 1 if str(x).lower() in ['1','yes','true','y','t'] else 0)\n",
        "    df['CVD'] = df['CVD'].astype(int)\n",
        "print(f\"Unique values in Y (CVD): {np.unique(df['CVD'])}\")"
      ],
      "metadata": {
        "colab": {
          "base_uri": "https://localhost:8080/"
        },
        "id": "dA_hg6JVqMOy",
        "outputId": "194d5ee1-c000-4095-f000-039b091973f2"
      },
      "execution_count": null,
      "outputs": [
        {
          "output_type": "stream",
          "name": "stdout",
          "text": [
            "Unique values in Y (CVD): [0 1 2 3 4]\n"
          ]
        }
      ]
    },
    {
      "cell_type": "markdown",
      "source": [
        "# **Define X, T, Y**"
      ],
      "metadata": {
        "id": "pLAz_R6aPXLY"
      }
    },
    {
      "cell_type": "code",
      "source": [
        "# Define X, T, Y\n",
        "feature_cols = ['BMI', 'etfruit', 'eatveg', 'dosprt', 'cgtsmok',\n",
        "                'alcfreq', 'edulvlb', 'hinctnta']\n",
        "X = df[feature_cols].copy()\n",
        "T = df['BMI'].copy()   # continuous treatment\n",
        "Y = df['CVD'].copy()   # binary outcome (0/1)"
      ],
      "metadata": {
        "id": "g95D8fKTqMLQ"
      },
      "execution_count": null,
      "outputs": []
    },
    {
      "cell_type": "markdown",
      "source": [
        "# **European regions mapping**"
      ],
      "metadata": {
        "id": "_st_OzDxPdXJ"
      }
    },
    {
      "cell_type": "code",
      "source": [
        "# European regions mapping\n",
        "region_map = {\n",
        "    'NO':'North','SE':'North','DK':'North','FI':'North','IS':'North','GB':'North','IE':'North',\n",
        "    'FR':'West','BE':'West','NL':'West','LU':'West','DE':'West','AT':'West',\n",
        "    'ES':'South','PT':'South','IT':'South','GR':'South','CY':'South','MT':'South',\n",
        "    'PL':'East','CZ':'East','SK':'East','HU':'East','RO':'East','BG':'East','SI':'East','HR':'East'\n",
        "}\n",
        "\n",
        "def get_region(code):\n",
        "    if pd.isna(code):\n",
        "        return 'Unknown'\n",
        "    c = str(code).upper()\n",
        "    return region_map.get(c, 'Unknown')\n",
        "\n",
        "df['region'] = df['cntry'].apply(get_region)  # Apply the mapping function to create the 'region' column\n",
        "print(\"Step 4: European region mapping.\")"
      ],
      "metadata": {
        "colab": {
          "base_uri": "https://localhost:8080/"
        },
        "id": "lYDgtVHeqUQB",
        "outputId": "0a25bc3c-ac50-4331-cbe3-d20a20a31f29"
      },
      "execution_count": null,
      "outputs": [
        {
          "output_type": "stream",
          "name": "stdout",
          "text": [
            "Step 4: European region mapping.\n"
          ]
        }
      ]
    },
    {
      "cell_type": "markdown",
      "source": [
        "# 1. **Complete-Case vs. Imputed Analyses**"
      ],
      "metadata": {
        "id": "xhogvwnXPkcI"
      }
    },
    {
      "cell_type": "code",
      "source": [
        "print(\"\\n--- 1. Complete-Case vs. Imputed Analyses ---\")\n",
        "# a) Complete-Case Analysis (already done by dropping NAs earlier)\n",
        "X_complete = X.copy()\n",
        "Y_complete = Y.copy()\n",
        "T_complete = T.copy()\n",
        "print(f\"Complete-case data size: X={X_complete.shape}, Y={Y_complete.shape}, T={T_complete.shape}\")\n"
      ],
      "metadata": {
        "colab": {
          "base_uri": "https://localhost:8080/"
        },
        "id": "UvT67MRhqYuU",
        "outputId": "44f4ac12-f05c-45d4-a66b-1992ed0f9818"
      },
      "execution_count": null,
      "outputs": [
        {
          "output_type": "stream",
          "name": "stdout",
          "text": [
            "\n",
            "--- 1. Complete-Case vs. Imputed Analyses ---\n",
            "Complete-case data size: X=(46162, 8), Y=(46162,), T=(46162,)\n"
          ]
        }
      ]
    },
    {
      "cell_type": "code",
      "source": [
        "# b) Imputation Analysis\n",
        "imputer = SimpleImputer(strategy='mean')  # Or 'median', 'most_frequent', 'constant'\n",
        "X_imputed = pd.DataFrame(imputer.fit_transform(X), columns=X.columns)\n",
        "Y_imputed = Y.copy()\n",
        "T_imputed = T.copy()\n",
        "print(f\"Imputed data size: X={X_imputed.shape}, Y={Y_imputed.shape}, T={T_imputed.shape}\")"
      ],
      "metadata": {
        "colab": {
          "base_uri": "https://localhost:8080/"
        },
        "id": "XX_Ck9Fgqf04",
        "outputId": "a4ec84f9-1920-47bb-818d-e8778cb9ca44"
      },
      "execution_count": null,
      "outputs": [
        {
          "output_type": "stream",
          "name": "stdout",
          "text": [
            "Imputed data size: X=(46162, 8), Y=(46162,), T=(46162,)\n"
          ]
        }
      ]
    },
    {
      "cell_type": "markdown",
      "source": [
        "# **Split Data**"
      ],
      "metadata": {
        "id": "HF1XSr3tPwX3"
      }
    },
    {
      "cell_type": "code",
      "source": [
        "# Split data\n",
        "X_train_complete, X_test_complete, Y_train_complete, Y_test_complete, T_train_complete, T_test_complete = train_test_split(\n",
        "    X_complete, Y_complete, T_complete, test_size=0.2, random_state=42\n",
        ")\n",
        "\n",
        "X_train_imputed, X_test_imputed, Y_train_imputed, Y_test_imputed, T_train_imputed, T_test_imputed = train_test_split(\n",
        "    X_imputed, Y_imputed, T_imputed, test_size=0.2, random_state=42\n",
        ")"
      ],
      "metadata": {
        "id": "KwBnv8hvqfxp"
      },
      "execution_count": null,
      "outputs": []
    },
    {
      "cell_type": "markdown",
      "source": [
        "# **Comparison of ATE: Complete Case vs. Imputed**"
      ],
      "metadata": {
        "id": "Y6A2X88oP63A"
      }
    },
    {
      "cell_type": "code",
      "source": [
        "# Causal Forest DML (Complete Case)\n",
        "cf_complete = CausalForestDML(random_state=42)\n",
        "cf_complete.fit(Y_train_complete, T_train_complete, X=X_train_complete)\n",
        "ate_complete = cf_complete.ate(X_test_complete).mean()\n",
        "ate_interval_complete = cf_complete.ate_interval(X_test_complete)\n",
        "\n",
        "# Causal Forest DML (Imputed)\n",
        "cf_imputed = CausalForestDML(random_state=42)\n",
        "cf_imputed.fit(Y_train_imputed, T_train_imputed, X=X_train_imputed)\n",
        "ate_imputed = cf_imputed.ate(X_test_imputed).mean()\n",
        "ate_interval_imputed = cf_imputed.ate_interval(X_test_imputed)\n",
        "\n",
        "# ATE and CI\n",
        "print(f\"ATE (Complete Case): {ate_complete:.4f} CI: {ate_interval_complete[0]:.4f}, {ate_interval_complete[1]:.4f}\")\n",
        "print(f\"ATE (Imputed): {ate_imputed:.4f} CI: {ate_interval_imputed[0]:.4f}, {ate_interval_imputed[1]:.4f}\")\n"
      ],
      "metadata": {
        "colab": {
          "base_uri": "https://localhost:8080/"
        },
        "id": "kQHEGqXdqftZ",
        "outputId": "565b2d8f-3ef5-4852-ebff-0f5799cd7384"
      },
      "execution_count": null,
      "outputs": [
        {
          "output_type": "stream",
          "name": "stdout",
          "text": [
            "ATE (Complete Case): 1.6213 CI: -58.7259, 61.9685\n",
            "ATE (Imputed): 1.6213 CI: -58.7259, 61.9685\n"
          ]
        }
      ]
    },
    {
      "cell_type": "code",
      "source": [
        "# Visualization: Complete vs Imputed\n",
        "ate_values = [ate_complete, ate_imputed]\n",
        "ci_lower = [ate_interval_complete[0], ate_interval_imputed[0]]\n",
        "ci_upper = [ate_interval_complete[1], ate_interval_imputed[1]]\n",
        "labels = ['Complete Case', 'Imputed']\n",
        "\n",
        "x = np.arange(len(labels))\n",
        "width = 0.35\n",
        "\n",
        "fig, ax = plt.subplots(figsize=(8, 6))\n",
        "rects1 = ax.bar(x, ate_values, width, label='ATE')\n",
        "ax.errorbar(x, ate_values, yerr=[[ate_values[i] - ci_lower[i] for i in range(len(ate_values))],\n",
        "                                  [ci_upper[i] - ate_values[i] for i in range(len(ate_values))]],\n",
        "              fmt='none', ecolor='black', capsize=5)\n",
        "\n",
        "ax.set_ylabel('Average Treatment Effect (ATE)', fontsize=14, fontweight='bold', color='#3f8a74')\n",
        "ax.set_title('Comparison of ATE: Complete Case vs. Imputed', fontsize=16, fontweight='bold', color='navy')\n",
        "ax.set_xticks(x)\n",
        "ax.set_xticklabels(labels)\n",
        "ax.legend()\n",
        "\n",
        "def autolabel(rects):\n",
        "    \"\"\"Attach a text label above each bar in *rects*, displaying its height.\"\"\"\n",
        "    for rect in rects:\n",
        "        height = rect.get_height()\n",
        "        ax.annotate(f'{height:.3f}',\n",
        "                    xy=(rect.get_x() + rect.get_width() / 2, height),\n",
        "                    xytext=(0, 3),  # 3 points vertical offset\n",
        "                    textcoords=\"offset points\",\n",
        "                    ha='center', va='bottom')\n",
        "\n",
        "autolabel(rects1)\n",
        "fig.tight_layout()\n",
        "plt.gca().set_facecolor('#e4ffdc')\n",
        "plt.savefig('fig_complete_vs_imputed.png')\n",
        "plt.show()"
      ],
      "metadata": {
        "colab": {
          "base_uri": "https://localhost:8080/",
          "height": 607
        },
        "id": "n2ulziHfqsly",
        "outputId": "8d4e5015-247a-4bc7-88cb-cded84a3fe40"
      },
      "execution_count": null,
      "outputs": [
        {
          "output_type": "display_data",
          "data": {
            "text/plain": [
              "<Figure size 800x600 with 1 Axes>"
            ],
            "image/png": "[encoded data removed]"
          },
          "metadata": {}
        }
      ]
    },
    {
      "cell_type": "markdown",
      "source": [
        "# 2. **Compare Causal Forest vs. TMLE vs. DML**"
      ],
      "metadata": {
        "id": "DdWAhurtQXXc"
      }
    },
    {
      "cell_type": "code",
      "source": [
        "print(\"\\n--- 2. Compare Causal Forest vs. TMLE vs. DML ---\")\n",
        "\n",
        "# Split data\n",
        "X_train, X_test, Y_train, Y_test, T_train, T_test = train_test_split(X, Y, T, test_size=0.2, random_state=42)\n",
        "\n",
        "# Models\n",
        "cf = CausalForestDML(random_state=42)\n",
        "dml = DML(model_y=RandomForestRegressor(random_state=42),\n",
        "          model_t=RandomForestRegressor(random_state=42),\n",
        "          model_final=StatsModelsLinearRegression())\n",
        "\n",
        "# Fit models\n",
        "cf.fit(Y_train, T_train, X=X_train)\n",
        "dml.fit(Y_train, T_train, X=X_train)\n",
        "\n",
        "# ATE predictions\n",
        "ate_cf = cf.ate(X_test).mean()\n",
        "ate_dml = dml.ate(X_test).mean()\n",
        "\n",
        "ate_interval_cf = cf.ate_interval(X_test)\n",
        "ate_interval_dml = dml.ate_interval(X_test)\n",
        "\n",
        "\n",
        "print(f\"Causal Forest ATE: {ate_cf:.4f} CI: {ate_interval_cf[0]:.4f}, {ate_interval_cf[1]:.4f}\")\n",
        "print(f\"DML ATE: {ate_dml:.4f} CI: {ate_interval_dml[0]:.4f}, {ate_interval_dml[1]:.4f}\")\n"
      ],
      "metadata": {
        "colab": {
          "base_uri": "https://localhost:8080/"
        },
        "id": "tXV-_FKcqsgp",
        "outputId": "bb0fabfa-66f1-4ebc-98d6-14f8efdf3c4f"
      },
      "execution_count": null,
      "outputs": [
        {
          "output_type": "stream",
          "name": "stdout",
          "text": [
            "\n",
            "--- 2. Compare Causal Forest vs. TMLE vs. DML ---\n",
            "Causal Forest ATE: 1.6213 CI: -58.7259, 61.9685\n",
            "DML ATE: 1.5295 CI: -3.4233, 6.4823\n"
          ]
        }
      ]
    },
    {
      "cell_type": "code",
      "source": [
        "# Visualization: Causal Forest vs. TMLE vs. DML\n",
        "ate_values = [ate_cf, ate_dml]\n",
        "ci_lower = [ate_interval_cf[0], ate_interval_dml[0]]\n",
        "ci_upper = [ate_interval_cf[1], ate_interval_dml[1]]\n",
        "labels = ['Causal Forest', 'DML']\n",
        "\n",
        "x = np.arange(len(labels))\n",
        "width = 0.35\n",
        "\n",
        "fig, ax = plt.subplots(figsize=(10, 6))\n",
        "rects1 = ax.bar(x, ate_values, width, label='ATE')\n",
        "ax.errorbar(x, ate_values, yerr=[[ate_values[i] - ci_lower[i] for i in range(len(ate_values))],\n",
        "                                  [ci_upper[i] - ate_values[i] for i in range(len(ate_values))]],\n",
        "              fmt='none', ecolor='black', capsize=5)\n",
        "\n",
        "ax.set_ylabel('Average Treatment Effect (ATE)', fontsize=14, fontweight='bold', color='#3f8a74')\n",
        "ax.set_title('Comparison of ATE: Causal Forest vs. DML', fontsize=16, fontweight='bold', color='navy')\n",
        "ax.set_xticks(x)\n",
        "ax.set_xticklabels(labels)\n",
        "ax.legend()\n",
        "\n",
        "def autolabel(rects):\n",
        "    \"\"\"Attach a text label above each bar in *rects*, displaying its height.\"\"\"\n",
        "    for rect in rects:\n",
        "        height = rect.get_height()\n",
        "        ax.annotate(f'{height:.3f}',\n",
        "                    xy=(rect.get_x() + rect.get_width() / 2, height),\n",
        "                    xytext=(0, 3),  # 3 points vertical offset\n",
        "                    textcoords=\"offset points\",\n",
        "                    ha='center', va='bottom')\n",
        "\n",
        "autolabel(rects1)\n",
        "fig.tight_layout()\n",
        "plt.gca().set_facecolor('#e4ffdc')\n",
        "plt.savefig('fig_causal_methods_comparison.png')\n",
        "plt.show()"
      ],
      "metadata": {
        "colab": {
          "base_uri": "https://localhost:8080/",
          "height": 607
        },
        "id": "ECjxftH4qsao",
        "outputId": "363a31ea-73e1-449a-9111-d988f014b781"
      },
      "execution_count": null,
      "outputs": [
        {
          "output_type": "display_data",
          "data": {
            "text/plain": [
              "<Figure size 1000x600 with 1 Axes>"
            ],
            "image/png": "[encoded data removed]"
          },
          "metadata": {}
        }
      ]
    },
    {
      "cell_type": "markdown",
      "source": [
        "# 3. **Exclude Small-Sample Countries and Rerun Key Analyses**"
      ],
      "metadata": {
        "id": "2Wb83-zzRDpy"
      }
    },
    {
      "cell_type": "code",
      "source": [
        "print(\"\\n--- 3. Exclude Small-Sample Countries and Rerun Key Analyses ---\")\n",
        "\n",
        "country_counts = df['cntry'].value_counts()\n",
        "small_countries = country_counts[country_counts < 50].index  # Threshold of 50\n",
        "df_large = df[~df['cntry'].isin(small_countries)].copy() #filtering the country\n",
        "\n",
        "print(f\"Original data size: {len(df)}\")\n",
        "print(f\"Data size after excluding small-sample countries: {len(df_large)}\")\n",
        "\n",
        "# Define X, T, Y for the filtered data\n",
        "X_large = df_large[feature_cols].copy()\n",
        "T_large = df_large['BMI'].copy()\n",
        "Y_large = df_large['CVD'].copy()\n",
        "\n",
        "# Split data\n",
        "X_train_large, X_test_large, Y_train_large, Y_test_large, T_train_large, T_test_large = train_test_split(\n",
        "    X_large, Y_large, T_large, test_size=0.2, random_state=42\n",
        ")\n",
        "\n",
        "# Causal Forest DML (Large Countries Only)\n",
        "cf_large = CausalForestDML(random_state=42)\n",
        "cf_large.fit(Y_train_large, T_train_large, X=X_train_large)\n",
        "ate_large = cf_large.ate(X_test_large).mean()\n",
        "ate_interval_large = cf_large.ate_interval(X_test_large)\n",
        "\n",
        "print(f\"ATE (Large Countries): {ate_large:.4f} CI: {ate_interval_large[0]:.4f}, {ate_interval_large[1]:.4f}\")"
      ],
      "metadata": {
        "colab": {
          "base_uri": "https://localhost:8080/"
        },
        "id": "JLXd6gtgq-Sq",
        "outputId": "4f513eb3-a1c3-4fd9-9c8c-c726a2c90aaa"
      },
      "execution_count": null,
      "outputs": [
        {
          "output_type": "stream",
          "name": "stdout",
          "text": [
            "\n",
            "--- 3. Exclude Small-Sample Countries and Rerun Key Analyses ---\n",
            "Original data size: 46162\n",
            "Data size after excluding small-sample countries: 46162\n",
            "ATE (Large Countries): 1.6213 CI: -58.7259, 61.9685\n"
          ]
        }
      ]
    },
    {
      "cell_type": "markdown",
      "source": [
        "# 4. **Test Effect of Survey Weights: Weighted vs. Unweighted Results**"
      ],
      "metadata": {
        "id": "LtlWn32ERkbA"
      }
    },
    {
      "cell_type": "code",
      "source": [
        "print(\"\\n--- 4. Test Effect of Survey Weights: Weighted vs. Unweighted Results ---\")\n",
        "\n",
        "# --- Unweighted ---\n",
        "cf_unweighted = CausalForestDML(random_state=42)\n",
        "cf_unweighted.fit(Y_train, T_train, X=X_train)\n",
        "ate_unweighted = cf_unweighted.ate(X_test).mean()\n",
        "ate_interval_unweighted = cf_unweighted.ate_interval(X_test)\n",
        "\n",
        "# --- Weighted (using dweight) ---\n",
        "cf_weighted = CausalForestDML(random_state=42)\n",
        "weights_train = df.iloc[X_train.index]['dweight']\n",
        "cf_weighted.fit(Y_train, T_train, X=X_train, sample_weight=weights_train)\n",
        "ate_weighted = cf_weighted.ate(X_test).mean()\n",
        "ate_interval_weighted = cf_weighted.ate_interval(X_test)\n",
        "\n",
        "print(f\"ATE (Unweighted): {ate_unweighted:.4f} CI: {ate_interval_unweighted[0]:.4f}, {ate_interval_unweighted[1]:.4f}\")\n",
        "print(f\"ATE (Weighted): {ate_weighted:.4f} CI: {ate_interval_weighted[0]:.4f}, {ate_interval_weighted[1]:.4f}\")\n"
      ],
      "metadata": {
        "colab": {
          "base_uri": "https://localhost:8080/"
        },
        "id": "SFuAtUcuq-PJ",
        "outputId": "d1c5f929-3074-432b-e55f-ca122a0aa62f"
      },
      "execution_count": null,
      "outputs": [
        {
          "output_type": "stream",
          "name": "stdout",
          "text": [
            "\n",
            "--- 4. Test Effect of Survey Weights: Weighted vs. Unweighted Results ---\n",
            "ATE (Unweighted): 1.6213 CI: -58.7259, 61.9685\n",
            "ATE (Weighted): -11.8578 CI: -114.9408, 91.2252\n"
          ]
        }
      ]
    },
    {
      "cell_type": "code",
      "source": [
        "# --- Visualization: Weighted vs. Unweighted Results ---\n",
        "ate_values = [ate_unweighted, ate_weighted]\n",
        "ci_lower = [ate_interval_unweighted[0], ate_interval_weighted[0]]\n",
        "ci_upper = [ate_interval_unweighted[1], ate_interval_weighted[1]]\n",
        "labels = ['Unweighted', 'Weighted (dweight)']\n",
        "\n",
        "x = np.arange(len(labels))\n",
        "width = 0.35\n",
        "\n",
        "fig, ax = plt.subplots(figsize=(8, 6))\n",
        "rects1 = ax.bar(x, ate_values, width, label='ATE')\n",
        "ax.errorbar(x, ate_values, yerr=[[ate_values[i] - ci_lower[i] for i in range(len(ate_values))],\n",
        "                                  [ci_upper[i] - ate_values[i] for i in range(len(ate_values))]],\n",
        "              fmt='none', ecolor='black', capsize=5)\n",
        "\n",
        "ax.set_ylabel('Average Treatment Effect (ATE)', fontsize=14, fontweight='bold', color='#3f8a74')\n",
        "ax.set_title('Comparison of ATE: Weighted vs. Unweighted', fontsize=16, fontweight='bold', color='navy')\n",
        "ax.set_xticks(x)\n",
        "ax.set_xticklabels(labels)\n",
        "ax.legend()\n",
        "\n",
        "def autolabel(rects):\n",
        "    \"\"\"Attach a text label above each bar in *rects*, displaying its height.\"\"\"\n",
        "    for rect in rects:\n",
        "        height = rect.get_height()\n",
        "        ax.annotate(f'{height:.3f}',\n",
        "                    xy=(rect.get_x() + rect.get_width() / 2, height),\n",
        "                    xytext=(0, 3),  # 3 points vertical offset\n",
        "                    textcoords=\"offset points\",\n",
        "                    ha='center', va='bottom')\n",
        "\n",
        "autolabel(rects1)\n",
        "fig.tight_layout()\n",
        "plt.gca().set_facecolor('#e4ffdc')\n",
        "plt.savefig('fig_weighted_vs_unweighted.png')\n",
        "plt.show()"
      ],
      "metadata": {
        "colab": {
          "base_uri": "https://localhost:8080/",
          "height": 607
        },
        "id": "RVdNp0ddrQjo",
        "outputId": "645e5fa2-08a6-4415-9d61-8f5cc8ca5e4c"
      },
      "execution_count": null,
      "outputs": [
        {
          "output_type": "display_data",
          "data": {
            "text/plain": [
              "<Figure size 800x600 with 1 Axes>"
            ],
            "image/png": "[encoded data removed]"
          },
          "metadata": {}
        }
      ]
    },
    {
      "cell_type": "markdown",
      "source": [
        "# 5. **Compute E-value**"
      ],
      "metadata": {
        "id": "bHcJN_SNSEot"
      }
    },
    {
      "cell_type": "code",
      "source": [
        "print(\"\\n--- 5. Compute E-value ---\")\n",
        "# Use the ATE and CI from the unweighted analysis\n",
        "ate = ate_unweighted\n",
        "ate_lower = ate_interval_unweighted[0]\n",
        "ate_upper = ate_interval_unweighted[1]\n",
        "\n",
        "e_value, e_value_lower_ci = compute_e_value(ate, ate_lower, ate_upper)\n",
        "print(f\"E-value: {e_value:.4f}\")\n",
        "print(f\"E-value Lower CI: {e_value_lower_ci:.4f}\")\n"
      ],
      "metadata": {
        "colab": {
          "base_uri": "https://localhost:8080/"
        },
        "id": "WD1IRJL7rQf5",
        "outputId": "3b927042-07b7-44e4-aef8-66ce2a877acf"
      },
      "execution_count": null,
      "outputs": [
        {
          "output_type": "stream",
          "name": "stdout",
          "text": [
            "\n",
            "--- 5. Compute E-value ---\n",
            "E-value: 2.6249\n",
            "E-value Lower CI: 0.4979\n"
          ]
        }
      ]
    },
    {
      "cell_type": "code",
      "source": [
        "# Save results to CSV and plot\n",
        "sensitivity_results = {\n",
        "    'Analysis': ['Complete Case', 'Imputed', 'Causal Forest', 'DML', 'Large Countries', 'Unweighted', 'Weighted', 'E-value'],\n",
        "    'ATE': [ate_complete, ate_imputed, ate_cf, ate_dml, ate_large, ate_unweighted, ate_weighted, e_value],\n",
        "    'CI_Lower': [ate_interval_complete[0], ate_interval_imputed[0], ate_interval_cf[0], ate_interval_dml[0], ate_interval_large[0], ate_interval_unweighted[0], ate_interval_weighted[0], e_value_lower_ci],\n",
        "    'CI_Upper': [ate_interval_complete[1], ate_interval_imputed[1], ate_interval_cf[1], ate_interval_dml[1], ate_interval_large[1], ate_interval_unweighted[1], ate_interval_weighted[1], np.nan]\n",
        "}\n",
        "\n",
        "sensitivity_df = pd.DataFrame(sensitivity_results)\n",
        "\n",
        "# Create the 'tables' directory if it doesn't exist\n",
        "if not os.path.exists('tables'):\n",
        "    os.makedirs('tables')\n",
        "\n",
        "\n",
        "sensitivity_df.to_csv('tables/sensitivity_summary.csv', index=False)\n",
        "\n",
        "# Consolidated Plot (Forest Plot Style)\n",
        "plt.figure(figsize=(12, 8))\n",
        "y_positions = range(len(sensitivity_df))\n",
        "plt.errorbar(sensitivity_df['ATE'], y_positions,\n",
        "             xerr=[(sensitivity_df['ATE'] - sensitivity_df['CI_Lower']).abs(),\n",
        "                   (sensitivity_df['CI_Upper'] - sensitivity_df['ATE']).abs()],\n",
        "             fmt='o', color='black', capsize=5)\n",
        "plt.yticks(y_positions, sensitivity_df['Analysis'])\n",
        "plt.xlabel('Average Treatment Effect (ATE)', fontsize=14, fontweight='bold', color='#3f8a74')\n",
        "plt.title('Sensitivity Analysis Summary (Forest Plot Style)', fontsize=16, fontweight='bold', color='navy')\n",
        "plt.axvline(x=0, color='red', linestyle='--', linewidth=0.7)  # Line of No Effect\n",
        "plt.grid(axis='x', linestyle='--')\n",
        "plt.tight_layout()\n",
        "plt.gca().set_facecolor('#e4ffdc')\n",
        "plt.savefig('fig_sensitivity_plot.png')\n",
        "plt.show()\n",
        "\n",
        "print(\"\\nSensitivity analysis complete. Results saved to tables/sensitivity_summary.csv and fig_sensitivity_plot.png\")"
      ],
      "metadata": {
        "colab": {
          "base_uri": "https://localhost:8080/",
          "height": 844
        },
        "id": "tmV3d6ZcreCH",
        "outputId": "b1e4ef53-64df-4844-fb23-d87f926ca673"
      },
      "execution_count": null,
      "outputs": [
        {
          "output_type": "display_data",
          "data": {
            "text/plain": [
              "<Figure size 1200x800 with 1 Axes>"
            ],
            "image/png": "[encoded data removed]"
          },
          "metadata": {}
        },
        {
          "output_type": "stream",
          "name": "stdout",
          "text": [
            "\n",
            "Sensitivity analysis complete. Results saved to tables/sensitivity_summary.csv and fig_sensitivity_plot.png\n"
          ]
        }
      ]
    },
    {
      "cell_type": "code",
      "source": [
        "import pandas as pd\n",
        "from IPython.display import display, HTML\n",
        "\n",
        "def display_side_by_side(*args, titles=('',), justify=\"center\"):\n",
        "    \"\"\"\n",
        "    Displays pandas DataFrames side by side with optional titles.\n",
        "    \"\"\"\n",
        "    html_str=''\n",
        "    if len(titles)>0:\n",
        "        html_str += \"<table style='display: inline-table;'><tr>\"\n",
        "        for title in titles:\n",
        "            html_str += \"<td style='text-align:center'><h4 >{}</h4></td>\".format(title)\n",
        "        html_str += \"</tr></table>\"\n",
        "\n",
        "    html_str += \"<table style='border:none'>\"\n",
        "    html_str+=\"<tr style='border:none'>\"\n",
        "    for df in args:\n",
        "        html_str+=\"<td style='vertical-align:top'>\"\n",
        "        html_str+=df.to_html().replace('table','table style=\"display:inline\"')\n",
        "        html_str+=\"</td>\"\n",
        "    html_str+=\"</tr></table>\"\n",
        "    display(HTML(html_str))\n",
        "\n",
        "\n",
        "# Paths to the CSV files\n",
        "sensitivity_summary_path = '/content/tables/sensitivity_summary.csv'\n",
        "\n",
        "\n",
        "# Read the CSV files into pandas DataFrames\n",
        "try:\n",
        "    sensitivity_summary_df = pd.read_csv(sensitivity_summary_path)\n",
        "\n",
        "    # Display the DataFrames side by side with titles\n",
        "    display_side_by_side(sensitivity_summary_df, titles=('Sensitivity Summary')) #Modified titles\n",
        "except FileNotFoundError:\n",
        "    print(\"One or more of the CSV files were not found.  Make sure the paths are correct and that the files exist.\")\n",
        "except Exception as e:\n",
        "    print(f\"An error occurred while reading or displaying the tables: {e}\")\n",
        "\n",
        "#Optionally Save the displayed output to a HTML file'\n",
        "html_output = \"\"\"\n",
        "<!DOCTYPE html>\n",
        "<html>\n",
        "<head>\n",
        "    <title> Tables</title>\n",
        "</head>\n",
        "<body>\n",
        "\"\"\"\n",
        "\n",
        "if 'sensitivity_summary_df' in locals():\n",
        "    html_output += \"<h2>Sensitivity_Summary</h2>\"\n",
        "    html_output += sensitivity_summary_df.to_html()\n",
        "\n",
        "html_output += \"\"\"\n",
        "</body>\n",
        "</html>\n",
        "\"\"\"\n",
        "\n",
        "output_file_path = 'tables_output.html'  # Define the output file path\n",
        "\n",
        "try:\n",
        "    with open(output_file_path, 'w') as f:\n",
        "        f.write(html_output)\n",
        "    print(f\"Saved tables to {output_file_path}\")\n",
        "except Exception as e:\n",
        "    print(f\"Error saving HTML output: {e}\")"
      ],
      "metadata": {
        "colab": {
          "base_uri": "https://localhost:8080/",
          "height": 370
        },
        "id": "Wm5GnP4pxDRY",
        "outputId": "296a850c-db1c-4d36-c581-7e1ccbabb0f1"
      },
      "execution_count": null,
      "outputs": [
        {
          "output_type": "display_data",
          "data": {
            "text/plain": [
              "<IPython.core.display.HTML object>"
            ],
            "text/html": [
              "<table style='display: inline-table;'><tr><td style='text-align:center'><h4 >S</h4></td><td style='text-align:center'><h4 >e</h4></td><td style='text-align:center'><h4 >n</h4></td><td style='text-align:center'><h4 >s</h4></td><td style='text-align:center'><h4 >i</h4></td><td style='text-align:center'><h4 >t</h4></td><td style='text-align:center'><h4 >i</h4></td><td style='text-align:center'><h4 >v</h4></td><td style='text-align:center'><h4 >i</h4></td><td style='text-align:center'><h4 >t</h4></td><td style='text-align:center'><h4 >y</h4></td><td style='text-align:center'><h4 > </h4></td><td style='text-align:center'><h4 >S</h4></td><td style='text-align:center'><h4 >u</h4></td><td style='text-align:center'><h4 >m</h4></td><td style='text-align:center'><h4 >m</h4></td><td style='text-align:center'><h4 >a</h4></td><td style='text-align:center'><h4 >r</h4></td><td style='text-align:center'><h4 >y</h4></td></tr></table><table style='border:none'><tr style='border:none'><td style='vertical-align:top'><table style=\"display:inline\" border=\"1\" class=\"dataframe\">\n",
              "  <thead>\n",
              "    <tr style=\"text-align: right;\">\n",
              "      <th></th>\n",
              "      <th>Analysis</th>\n",
              "      <th>ATE</th>\n",
              "      <th>CI_Lower</th>\n",
              "      <th>CI_Upper</th>\n",
              "    </tr>\n",
              "  </thead>\n",
              "  <tbody>\n",
              "    <tr>\n",
              "      <th>0</th>\n",
              "      <td>Complete Case</td>\n",
              "      <td>1.621283</td>\n",
              "      <td>-58.725897</td>\n",
              "      <td>61.968464</td>\n",
              "    </tr>\n",
              "    <tr>\n",
              "      <th>1</th>\n",
              "      <td>Imputed</td>\n",
              "      <td>1.621283</td>\n",
              "      <td>-58.725897</td>\n",
              "      <td>61.968464</td>\n",
              "    </tr>\n",
              "    <tr>\n",
              "      <th>2</th>\n",
              "      <td>Causal Forest</td>\n",
              "      <td>1.621283</td>\n",
              "      <td>-58.725897</td>\n",
              "      <td>61.968464</td>\n",
              "    </tr>\n",
              "    <tr>\n",
              "      <th>3</th>\n",
              "      <td>DML</td>\n",
              "      <td>1.529492</td>\n",
              "      <td>-3.423333</td>\n",
              "      <td>6.482317</td>\n",
              "    </tr>\n",
              "    <tr>\n",
              "      <th>4</th>\n",
              "      <td>Large Countries</td>\n",
              "      <td>1.621283</td>\n",
              "      <td>-58.725897</td>\n",
              "      <td>61.968464</td>\n",
              "    </tr>\n",
              "    <tr>\n",
              "      <th>5</th>\n",
              "      <td>Unweighted</td>\n",
              "      <td>1.621283</td>\n",
              "      <td>-58.725897</td>\n",
              "      <td>61.968464</td>\n",
              "    </tr>\n",
              "    <tr>\n",
              "      <th>6</th>\n",
              "      <td>Weighted</td>\n",
              "      <td>-11.857777</td>\n",
              "      <td>-114.940763</td>\n",
              "      <td>91.225210</td>\n",
              "    </tr>\n",
              "    <tr>\n",
              "      <th>7</th>\n",
              "      <td>E-value</td>\n",
              "      <td>2.624915</td>\n",
              "      <td>0.497889</td>\n",
              "      <td>NaN</td>\n",
              "    </tr>\n",
              "  </tbody>\n",
              "</table style=\"display:inline\"></td></tr></table>"
            ]
          },
          "metadata": {}
        },
        {
          "output_type": "stream",
          "name": "stdout",
          "text": [
            "Saved tables to tables_output.html\n"
          ]
        }
      ]
    },
    {
      "cell_type": "markdown",
      "source": [
        "## Refer to Part2_Sensitivity Analysis and Method Comparison for continuation."
      ],
      "metadata": {
        "id": "KwYiWb1pcYJy"
      }
    }
  ]
}