{
  "nbformat": 4,
  "nbformat_minor": 0,
  "metadata": {
    "colab": {
      "provenance": [],
      "authorship_tag": "ABX9TyNtFD3rMikodTrT2hRISgIo",
      "include_colab_link": true
    },
    "kernelspec": {
      "name": "python3",
      "display_name": "Python 3"
    },
    "language_info": {
      "name": "python"
    }
  },
  "cells": [
    {
      "cell_type": "markdown",
      "metadata": {
        "id": "view-in-github",
        "colab_type": "text"
      },
      "source": [
        "<a href=\"https://colab.research.google.com/github/jcdumlao14/ESS11DataAnalysis/blob/main/Sensitivity_Analysis_And_Method_Comparison.ipynb\" target=\"_parent\"><img src=\"https://colab.research.google.com/assets/colab-badge.svg\" alt=\"Open In Colab\"/></a>"
      ]
    },
    {
      "cell_type": "markdown",
      "source": [
        "# **Sensitivity Analysis and Method Comparison**"
      ],
      "metadata": {
        "id": "eUcOLnZvW3bc"
      }
    },
    {
      "cell_type": "markdown",
      "source": [
        "## **A. Identifying Variables for Primary Analysis Steps**\n",
        "- **Y** (Binary CVD indicator variable - will be generated) The **hltprhc and hltphhc** that we have already identified\n",
        "- **X** (Covariates) **agea, gndr, edulvlb, hinctnta cgtsmok, alcfreq, etfruit, eatveg, dosprt cntry imsmetn imdfetn impcntr polintr lrscale stflife**\n",
        "Treatments (W) or Causal ML (ATE + HTE) goal to check it.\n"
      ],
      "metadata": {
        "id": "C-pYAh-iX3kQ"
      }
    },
    {
      "cell_type": "markdown",
      "source": [
        "## **B. Identifying Variables for Sensitivity Checks**\n",
        "  1. **Complete-Case vs. Imputed Analysis**:\n",
        "     - To impute missing data, you need to identify variables with missingness. The code I supplied will try to drop the dataset.\n",
        "     - Likely candidates with missing data (you'll need to check this in the actual dataset):\n",
        "       - **hinctnta**: Household's total net income (Income questions are often sensitive).\n",
        "       - **edulvlb**: Higher level of education.\n",
        "       - Therefore this should be checked by:\n",
        "First, to make new data with imputation values on variables to compare with that data.\n",
        "\n",
        "  2. **Compare Causal Forest vs. TMLE vs. DML**: (This doesn't involve new variables, but requires implementing and comparing different ML models.)\n",
        "  3. **Exclude Small-Sample Countries**:\n",
        "     - Requires **cntry**: Country. You need to know the sample size per country and then filter the data accordingly. This isn't a variable used in the model, but rather used to subset the data.\n",
        "     - This step reduces bias by reducing country effects that don't match each other, since not all parameters exist in each country.\n",
        "\n",
        "  4. **Test Effect of Survey Weights**:\n",
        "     - Requires weight variables (essential from the start):\n",
        "        - **dweight**: Design weight\n",
        "        - **pspwght**: Post-stratification weight including design weight\n",
        "        - **pweight**: Population size weight (if appropriate – must combine with dweight or pspwght)\n",
        "        - Compare results using CausalForestDML with and without these weights in the .fit() method.\n",
        "  5. **Compute E-Value**: (Relies on having ATE point estimates and confidence intervals from your main model. E-value calculation does not involve more specific ESS variables.)\n",
        "\n"
      ],
      "metadata": {
        "id": "c3XtANsFYLug"
      }
    },
    {
      "cell_type": "markdown",
      "source": [
        "## **C. Creating Composite Variables or Performing Transformations**\n",
        "Note, that it depends to the quality of result, but using that or not is depend on data and experience\n",
        "  - **BMI**: Needs to be calculated.\n",
        "     - Requires **weighta**: Weight of respondent (kg)\n",
        "     - Requires **height**: Height of respondent (cm)\n",
        "  - region: Need to create by your own, using \"North, South, East, West\" list by code (see before).\n"
      ],
      "metadata": {
        "id": "aOj7Fu0EaxEw"
      }
    },
    {
      "cell_type": "markdown",
      "source": [
        "## **D. File Outputs**\n",
        " - **tables/sensitivity_summary.csv**: This CSV file will summarize the results of your sensitivity checks (ATE point estimates, CIs, E-values, etc.) for each robustness check performed.\n",
        " - **fig_sensitivity_plot.png**: A figure (likely a forest plot or similar) visualizing the range of ATE estimates across your sensitivity analyses.\n",
        "Remember it for reports and keep it save\n"
      ],
      "metadata": {
        "id": "5YW4ainhbYzL"
      }
    },
    {
      "cell_type": "markdown",
      "source": [
        "# **Installing Dependencies**"
      ],
      "metadata": {
        "id": "lQ2NvskEW6zd"
      }
    },
    {
      "cell_type": "code",
      "source": [
        "!pip install econml"
      ],
      "metadata": {
        "colab": {
          "base_uri": "https://localhost:8080/"
        },
        "id": "GHqu3m3pRpS8",
        "outputId": "0f8dba25-8780-439e-9201-7a81441f69cc"
      },
      "execution_count": null,
      "outputs": [
        {
          "output_type": "stream",
          "name": "stdout",
          "text": [
            "Requirement already satisfied: econml in /usr/local/lib/python3.12/dist-packages (0.16.0)\n",
            "Requirement already satisfied: numpy in /usr/local/lib/python3.12/dist-packages (from econml) (2.0.2)\n",
            "Requirement already satisfied: scipy>1.4.0 in /usr/local/lib/python3.12/dist-packages (from econml) (1.16.2)\n",
            "Requirement already satisfied: scikit-learn<1.7,>=1.0 in /usr/local/lib/python3.12/dist-packages (from econml) (1.6.1)\n",
            "Requirement already satisfied: sparse in /usr/local/lib/python3.12/dist-packages (from econml) (0.17.0)\n",
            "Requirement already satisfied: joblib>=0.13.0 in /usr/local/lib/python3.12/dist-packages (from econml) (1.5.2)\n",
            "Requirement already satisfied: statsmodels>=0.10 in /usr/local/lib/python3.12/dist-packages (from econml) (0.14.5)\n",
            "Requirement already satisfied: pandas>1.0 in /usr/local/lib/python3.12/dist-packages (from econml) (2.2.2)\n",
            "Requirement already satisfied: shap<0.49.0,>=0.38.1 in /usr/local/lib/python3.12/dist-packages (from econml) (0.48.0)\n",
            "Requirement already satisfied: lightgbm in /usr/local/lib/python3.12/dist-packages (from econml) (4.6.0)\n",
            "Requirement already satisfied: packaging in /usr/local/lib/python3.12/dist-packages (from econml) (25.0)\n",
            "Requirement already satisfied: python-dateutil>=2.8.2 in /usr/local/lib/python3.12/dist-packages (from pandas>1.0->econml) (2.9.0.post0)\n",
            "Requirement already satisfied: pytz>=2020.1 in /usr/local/lib/python3.12/dist-packages (from pandas>1.0->econml) (2025.2)\n",
            "Requirement already satisfied: tzdata>=2022.7 in /usr/local/lib/python3.12/dist-packages (from pandas>1.0->econml) (2025.2)\n",
            "Requirement already satisfied: threadpoolctl>=3.1.0 in /usr/local/lib/python3.12/dist-packages (from scikit-learn<1.7,>=1.0->econml) (3.6.0)\n",
            "Requirement already satisfied: tqdm>=4.27.0 in /usr/local/lib/python3.12/dist-packages (from shap<0.49.0,>=0.38.1->econml) (4.67.1)\n",
            "Requirement already satisfied: slicer==0.0.8 in /usr/local/lib/python3.12/dist-packages (from shap<0.49.0,>=0.38.1->econml) (0.0.8)\n",
            "Requirement already satisfied: numba>=0.54 in /usr/local/lib/python3.12/dist-packages (from shap<0.49.0,>=0.38.1->econml) (0.60.0)\n",
            "Requirement already satisfied: cloudpickle in /usr/local/lib/python3.12/dist-packages (from shap<0.49.0,>=0.38.1->econml) (3.1.1)\n",
            "Requirement already satisfied: typing-extensions in /usr/local/lib/python3.12/dist-packages (from shap<0.49.0,>=0.38.1->econml) (4.15.0)\n",
            "Requirement already satisfied: patsy>=0.5.6 in /usr/local/lib/python3.12/dist-packages (from statsmodels>=0.10->econml) (1.0.1)\n",
            "Requirement already satisfied: llvmlite<0.44,>=0.43.0dev0 in /usr/local/lib/python3.12/dist-packages (from numba>=0.54->shap<0.49.0,>=0.38.1->econml) (0.43.0)\n",
            "Requirement already satisfied: six>=1.5 in /usr/local/lib/python3.12/dist-packages (from python-dateutil>=2.8.2->pandas>1.0->econml) (1.17.0)\n"
          ]
        }
      ]
    },
    {
      "cell_type": "markdown",
      "source": [
        "Reference: https://www.pywhy.org/EconML/_autosummary/econml.dml.CausalForestDML.html"
      ],
      "metadata": {
        "id": "q03SE2Ix544-"
      }
    },
    {
      "cell_type": "markdown",
      "source": [
        "# **Import Libraries**"
      ],
      "metadata": {
        "id": "arV-YOmDOxch"
      }
    },
    {
      "cell_type": "code",
      "source": [
        "import pandas as pd\n",
        "import numpy as np\n",
        "from sklearn.model_selection import train_test_split\n",
        "from sklearn.impute import SimpleImputer\n",
        "from sklearn.ensemble import RandomForestRegressor, RandomForestClassifier\n",
        "from sklearn.linear_model import LogisticRegression\n",
        "from sklearn.metrics import roc_auc_score, mean_squared_error\n",
        "import statsmodels.api as sm\n",
        "import matplotlib.pyplot as plt\n",
        "import seaborn as sns\n",
        "from econml.dml import CausalForestDML\n",
        "from econml.dml import DML\n",
        "from econml.sklearn_extensions.linear_model import StatsModelsLinearRegression  # Import StatsModelsLinearRegression\n",
        "from econml.dml import LinearDML, SparseLinearDML\n",
        "from scipy.stats import norm\n",
        "\n",
        "\n",
        "import warnings\n",
        "warnings.filterwarnings('ignore')\n",
        "import statsmodels.formula.api as smf  # Import for regression models and formulas\n",
        "import os  # Import the os module"
      ],
      "metadata": {
        "id": "wHIcV9QAmhee"
      },
      "execution_count": null,
      "outputs": []
    },
    {
      "cell_type": "markdown",
      "source": [
        "# **E-value Function**"
      ],
      "metadata": {
        "id": "-dautf5nO2aB"
      }
    },
    {
      "cell_type": "code",
      "source": [
        "# E-value function (Rosenbaum sensitivity value)\n",
        "def compute_e_value(ate, ate_lower, ate_upper):\n",
        "    \"\"\"Computes the E-value for a given ATE and confidence interval.\"\"\"\n",
        "    if ate > 0:\n",
        "        risk_ratio = ate\n",
        "        lower_ci = ate_lower\n",
        "    else:\n",
        "        risk_ratio = -ate\n",
        "        lower_ci = ate_upper\n",
        "\n",
        "    e_value = risk_ratio + np.sqrt(risk_ratio * (risk_ratio - 1))\n",
        "    e_value_lower_ci = lower_ci + np.sqrt(lower_ci * (lower_ci - 1))\n",
        "    return e_value, e_value_lower_ci\n"
      ],
      "metadata": {
        "id": "kj71ptLXp6SK"
      },
      "execution_count": null,
      "outputs": []
    },
    {
      "cell_type": "markdown",
      "source": [
        "# **Load Dataset**"
      ],
      "metadata": {
        "id": "s1QhITHYPCnZ"
      }
    },
    {
      "cell_type": "code",
      "source": [
        "# Load dataset\n",
        "try:\n",
        "    df = pd.read_csv('/content/ESS11.csv')\n",
        "except FileNotFoundError:\n",
        "    raise FileNotFoundError(\"Dataset file not found. Check /content/ESS11.csv path.\")\n",
        "\n",
        "# Rename and basic checks\n",
        "df = df.rename(columns={'hltprhc': 'CVD'})\n",
        "print(\"Step 1: Renamed 'hltprhc' to 'CVD'\")\n"
      ],
      "metadata": {
        "colab": {
          "base_uri": "https://localhost:8080/"
        },
        "id": "fuFfnb2Op-II",
        "outputId": "ec10f0d2-a7f5-471b-b136-4109287ad778"
      },
      "execution_count": null,
      "outputs": [
        {
          "output_type": "stream",
          "name": "stdout",
          "text": [
            "Step 1: Renamed 'hltprhc' to 'CVD'\n"
          ]
        }
      ]
    },
    {
      "cell_type": "markdown",
      "source": [
        "# **Data Cleaning & Required Cols**"
      ],
      "metadata": {
        "id": "HrfHa47OPJVF"
      }
    },
    {
      "cell_type": "code",
      "source": [
        "# Data cleaning & required cols\n",
        "key_cols = ['weighta', 'height', 'CVD', 'etfruit', 'eatveg', 'dosprt',\n",
        "            'cgtsmok', 'alcfreq', 'edulvlb', 'hinctnta', 'cntry', 'dweight', 'pspwght']\n",
        "# Check that required columns exist\n",
        "missing_cols = [c for c in key_cols if c not in df.columns]\n",
        "if missing_cols:\n",
        "    raise KeyError(f\"The following required columns are missing from the dataframe: {missing_cols}\")\n",
        "\n",
        "df = df.dropna(subset=key_cols).copy()\n",
        "print(f\"Step 2: Dropped rows with NA in key columns. Remaining rows: {len(df)}\")"
      ],
      "metadata": {
        "colab": {
          "base_uri": "https://localhost:8080/"
        },
        "id": "_xv8JEDBp-E5",
        "outputId": "0d194011-b156-4728-c2a9-f03c4e31eb7c"
      },
      "execution_count": null,
      "outputs": [
        {
          "output_type": "stream",
          "name": "stdout",
          "text": [
            "Step 2: Dropped rows with NA in key columns. Remaining rows: 46162\n"
          ]
        }
      ]
    },
    {
      "cell_type": "code",
      "source": [
        "# Convert height from cm to meters and compute BMI\n",
        "df['height_m'] = df['height'] / 10.0\n",
        "df['BMI'] = df['weighta'] / (df['height_m'] ** 2)\n",
        "df = df[np.isfinite(df['BMI'])].copy()\n",
        "print(\"Step 3: Calculated BMI and removed infinite values.\")"
      ],
      "metadata": {
        "colab": {
          "base_uri": "https://localhost:8080/"
        },
        "id": "GibZ-YNcp-A5",
        "outputId": "3ea78f9c-7ee7-4ebd-81ea-e5e2e6d7fb10"
      },
      "execution_count": null,
      "outputs": [
        {
          "output_type": "stream",
          "name": "stdout",
          "text": [
            "Step 3: Calculated BMI and removed infinite values.\n"
          ]
        }
      ]
    },
    {
      "cell_type": "code",
      "source": [
        "# Ensure CVD is binary/int (map or cast if necessary)\n",
        "if df['CVD'].dtype == object:\n",
        "    # try simple mapping\n",
        "    df['CVD'] = df['CVD'].map(lambda x: 1 if str(x).lower() in ['1','yes','true','y','t'] else 0)\n",
        "    df['CVD'] = df['CVD'].astype(int)\n",
        "print(f\"Unique values in Y (CVD): {np.unique(df['CVD'])}\")"
      ],
      "metadata": {
        "colab": {
          "base_uri": "https://localhost:8080/"
        },
        "id": "dA_hg6JVqMOy",
        "outputId": "3af41cc2-58d6-46bf-b8b0-1d05c2369c4c"
      },
      "execution_count": null,
      "outputs": [
        {
          "output_type": "stream",
          "name": "stdout",
          "text": [
            "Unique values in Y (CVD): [0 1]\n"
          ]
        }
      ]
    },
    {
      "cell_type": "markdown",
      "source": [
        "# **Define X, T, Y**"
      ],
      "metadata": {
        "id": "pLAz_R6aPXLY"
      }
    },
    {
      "cell_type": "code",
      "source": [
        "# Define X, T, Y\n",
        "feature_cols = ['BMI', 'etfruit', 'eatveg', 'dosprt', 'cgtsmok',\n",
        "                'alcfreq', 'edulvlb', 'hinctnta']\n",
        "X = df[feature_cols].copy()\n",
        "T = df['BMI'].copy()   # continuous treatment\n",
        "Y = df['CVD'].copy()   # binary outcome (0/1)"
      ],
      "metadata": {
        "id": "g95D8fKTqMLQ"
      },
      "execution_count": null,
      "outputs": []
    },
    {
      "cell_type": "markdown",
      "source": [
        "# **European regions mapping**"
      ],
      "metadata": {
        "id": "_st_OzDxPdXJ"
      }
    },
    {
      "cell_type": "code",
      "source": [
        "# European regions mapping\n",
        "region_map = {\n",
        "    'NO':'North','SE':'North','DK':'North','FI':'North','IS':'North','GB':'North','IE':'North',\n",
        "    'FR':'West','BE':'West','NL':'West','LU':'West','DE':'West','AT':'West',\n",
        "    'ES':'South','PT':'South','IT':'South','GR':'South','CY':'South','MT':'South',\n",
        "    'PL':'East','CZ':'East','SK':'East','HU':'East','RO':'East','BG':'East','SI':'East','HR':'East'\n",
        "}\n",
        "\n",
        "def get_region(code):\n",
        "    if pd.isna(code):\n",
        "        return 'Unknown'\n",
        "    c = str(code).upper()\n",
        "    return region_map.get(c, 'Unknown')\n",
        "\n",
        "df['region'] = df['cntry'].apply(get_region)  # Apply the mapping function to create the 'region' column\n",
        "print(\"Step 2a: European region mapping.\")"
      ],
      "metadata": {
        "colab": {
          "base_uri": "https://localhost:8080/"
        },
        "id": "lYDgtVHeqUQB",
        "outputId": "373b6d4f-1e1f-4650-daca-6e0b5d7b2497"
      },
      "execution_count": null,
      "outputs": [
        {
          "output_type": "stream",
          "name": "stdout",
          "text": [
            "Step 2a: European region mapping.\n"
          ]
        }
      ]
    },
    {
      "cell_type": "markdown",
      "source": [
        "# 1. **Complete-Case vs. Imputed Analyses**"
      ],
      "metadata": {
        "id": "xhogvwnXPkcI"
      }
    },
    {
      "cell_type": "code",
      "source": [
        "print(\"\\n--- 1. Complete-Case vs. Imputed Analyses ---\")\n",
        "# a) Complete-Case Analysis (already done by dropping NAs earlier)\n",
        "X_complete = X.copy()\n",
        "Y_complete = Y.copy()\n",
        "T_complete = T.copy()\n",
        "print(f\"Complete-case data size: X={X_complete.shape}, Y={Y_complete.shape}, T={T_complete.shape}\")\n"
      ],
      "metadata": {
        "colab": {
          "base_uri": "https://localhost:8080/"
        },
        "id": "UvT67MRhqYuU",
        "outputId": "d73160d4-3e6a-4b4d-b2aa-e24de14c7d85"
      },
      "execution_count": null,
      "outputs": [
        {
          "output_type": "stream",
          "name": "stdout",
          "text": [
            "\n",
            "--- 1. Complete-Case vs. Imputed Analyses ---\n",
            "Complete-case data size: X=(46162, 8), Y=(46162,), T=(46162,)\n"
          ]
        }
      ]
    },
    {
      "cell_type": "code",
      "source": [
        "# b) Imputation Analysis\n",
        "imputer = SimpleImputer(strategy='mean')  # Or 'median', 'most_frequent', 'constant'\n",
        "X_imputed = pd.DataFrame(imputer.fit_transform(X), columns=X.columns)\n",
        "Y_imputed = Y.copy()\n",
        "T_imputed = T.copy()\n",
        "print(f\"Imputed data size: X={X_imputed.shape}, Y={Y_imputed.shape}, T={T_imputed.shape}\")"
      ],
      "metadata": {
        "colab": {
          "base_uri": "https://localhost:8080/"
        },
        "id": "XX_Ck9Fgqf04",
        "outputId": "e99f8148-d80f-4814-ed0b-1364a35ec961"
      },
      "execution_count": null,
      "outputs": [
        {
          "output_type": "stream",
          "name": "stdout",
          "text": [
            "Imputed data size: X=(46162, 8), Y=(46162,), T=(46162,)\n"
          ]
        }
      ]
    },
    {
      "cell_type": "markdown",
      "source": [
        "# **Split Data**"
      ],
      "metadata": {
        "id": "HF1XSr3tPwX3"
      }
    },
    {
      "cell_type": "code",
      "source": [
        "# Split data\n",
        "X_train_complete, X_test_complete, Y_train_complete, Y_test_complete, T_train_complete, T_test_complete = train_test_split(\n",
        "    X_complete, Y_complete, T_complete, test_size=0.2, random_state=42\n",
        ")\n",
        "\n",
        "X_train_imputed, X_test_imputed, Y_train_imputed, Y_test_imputed, T_train_imputed, T_test_imputed = train_test_split(\n",
        "    X_imputed, Y_imputed, T_imputed, test_size=0.2, random_state=42\n",
        ")"
      ],
      "metadata": {
        "id": "KwBnv8hvqfxp"
      },
      "execution_count": null,
      "outputs": []
    },
    {
      "cell_type": "markdown",
      "source": [
        "# **Comparison of ATE: Complete Case vs. Imputed**"
      ],
      "metadata": {
        "id": "Y6A2X88oP63A"
      }
    },
    {
      "cell_type": "code",
      "source": [
        "# Causal Forest DML (Complete Case)\n",
        "cf_complete = CausalForestDML(random_state=42)\n",
        "cf_complete.fit(Y_train_complete, T_train_complete, X=X_train_complete)\n",
        "ate_complete = cf_complete.ate(X_test_complete).mean()\n",
        "ate_interval_complete = cf_complete.ate_interval(X_test_complete)\n",
        "\n",
        "# Causal Forest DML (Imputed)\n",
        "cf_imputed = CausalForestDML(random_state=42)\n",
        "cf_imputed.fit(Y_train_imputed, T_train_imputed, X=X_train_imputed)\n",
        "ate_imputed = cf_imputed.ate(X_test_imputed).mean()\n",
        "ate_interval_imputed = cf_imputed.ate_interval(X_test_imputed)\n",
        "\n",
        "# ATE and CI\n",
        "print(f\"ATE (Complete Case): {ate_complete:.4f} CI: {ate_interval_complete[0]:.4f}, {ate_interval_complete[1]:.4f}\")\n",
        "print(f\"ATE (Imputed): {ate_imputed:.4f} CI: {ate_interval_imputed[0]:.4f}, {ate_interval_imputed[1]:.4f}\")\n"
      ],
      "metadata": {
        "colab": {
          "base_uri": "https://localhost:8080/"
        },
        "id": "kQHEGqXdqftZ",
        "outputId": "df959395-c2f9-4311-9d90-32c9d83c6b6f"
      },
      "execution_count": null,
      "outputs": [
        {
          "output_type": "stream",
          "name": "stdout",
          "text": [
            "ATE (Complete Case): -3.3445 CI: -40.5961, 33.9072\n",
            "ATE (Imputed): -3.3445 CI: -40.5961, 33.9072\n"
          ]
        }
      ]
    },
    {
      "cell_type": "code",
      "source": [
        "# Visualization: Complete vs Imputed\n",
        "ate_values = [ate_complete, ate_imputed]\n",
        "ci_lower = [ate_interval_complete[0], ate_interval_imputed[0]]\n",
        "ci_upper = [ate_interval_complete[1], ate_interval_imputed[1]]\n",
        "labels = ['Complete Case', 'Imputed']\n",
        "\n",
        "x = np.arange(len(labels))\n",
        "width = 0.35\n",
        "\n",
        "fig, ax = plt.subplots(figsize=(8, 6))\n",
        "rects1 = ax.bar(x, ate_values, width, label='ATE')\n",
        "ax.errorbar(x, ate_values, yerr=[[ate_values[i] - ci_lower[i] for i in range(len(ate_values))],\n",
        "                                  [ci_upper[i] - ate_values[i] for i in range(len(ate_values))]],\n",
        "              fmt='none', ecolor='black', capsize=5)\n",
        "\n",
        "ax.set_ylabel('Average Treatment Effect (ATE)', fontsize=14, fontweight='bold', color='#3f8a74')\n",
        "ax.set_title('Comparison of ATE: Complete Case vs. Imputed', fontsize=16, fontweight='bold', color='navy')\n",
        "ax.set_xticks(x)\n",
        "ax.set_xticklabels(labels)\n",
        "ax.legend()\n",
        "\n",
        "def autolabel(rects):\n",
        "    \"\"\"Attach a text label above each bar in *rects*, displaying its height.\"\"\"\n",
        "    for rect in rects:\n",
        "        height = rect.get_height()\n",
        "        ax.annotate(f'{height:.3f}',\n",
        "                    xy=(rect.get_x() + rect.get_width() / 2, height),\n",
        "                    xytext=(0, 3),  # 3 points vertical offset\n",
        "                    textcoords=\"offset points\",\n",
        "                    ha='center', va='bottom')\n",
        "\n",
        "autolabel(rects1)\n",
        "fig.tight_layout()\n",
        "plt.gca().set_facecolor('#e4ffdc')\n",
        "plt.savefig('fig_complete_vs_imputed.png')\n",
        "plt.show()"
      ],
      "metadata": {
        "colab": {
          "base_uri": "https://localhost:8080/",
          "height": 607
        },
        "id": "n2ulziHfqsly",
        "outputId": "3ff5f93f-5020-48a6-b2ff-0e1d61cb3d24"
      },
      "execution_count": null,
      "outputs": [
        {
          "output_type": "display_data",
          "data": {
            "text/plain": [
              "<Figure size 800x600 with 1 Axes>"
            ],
            "image/png": "[encoded data removed]"
          },
          "metadata": {}
        }
      ]
    },
    {
      "cell_type": "markdown",
      "source": [
        "# 2. **Compare Causal Forest vs. TMLE vs. DML**"
      ],
      "metadata": {
        "id": "DdWAhurtQXXc"
      }
    },
    {
      "cell_type": "code",
      "source": [
        "print(\"\\n--- 2. Compare Causal Forest vs. TMLE vs. DML ---\")\n",
        "\n",
        "# Split data\n",
        "X_train, X_test, Y_train, Y_test, T_train, T_test = train_test_split(X, Y, T, test_size=0.2, random_state=42)\n",
        "\n",
        "# Models\n",
        "cf = CausalForestDML(random_state=42)\n",
        "dml = DML(model_y=RandomForestRegressor(random_state=42),\n",
        "          model_t=RandomForestRegressor(random_state=42),\n",
        "          model_final=StatsModelsLinearRegression())\n",
        "\n",
        "# Fit models\n",
        "cf.fit(Y_train, T_train, X=X_train)\n",
        "dml.fit(Y_train, T_train, X=X_train)\n",
        "\n",
        "# ATE predictions\n",
        "ate_cf = cf.ate(X_test).mean()\n",
        "ate_dml = dml.ate(X_test).mean()\n",
        "\n",
        "ate_interval_cf = cf.ate_interval(X_test)\n",
        "ate_interval_dml = dml.ate_interval(X_test)\n",
        "\n",
        "\n",
        "print(f\"Causal Forest ATE: {ate_cf:.4f} CI: {ate_interval_cf[0]:.4f}, {ate_interval_cf[1]:.4f}\")\n",
        "print(f\"DML ATE: {ate_dml:.4f} CI: {ate_interval_dml[0]:.4f}, {ate_interval_dml[1]:.4f}\")\n"
      ],
      "metadata": {
        "colab": {
          "base_uri": "https://localhost:8080/"
        },
        "id": "tXV-_FKcqsgp",
        "outputId": "6d95381f-d4be-45ab-ff56-4c4edf93b5e3"
      },
      "execution_count": null,
      "outputs": [
        {
          "output_type": "stream",
          "name": "stdout",
          "text": [
            "\n",
            "--- 2. Compare Causal Forest vs. TMLE vs. DML ---\n",
            "Causal Forest ATE: -3.3445 CI: -40.5961, 33.9072\n",
            "DML ATE: 0.5769 CI: -3.0250, 4.1787\n"
          ]
        }
      ]
    },
    {
      "cell_type": "code",
      "source": [
        "# Visualization: Causal Forest vs. TMLE vs. DML\n",
        "ate_values = [ate_cf, ate_dml]\n",
        "ci_lower = [ate_interval_cf[0], ate_interval_dml[0]]\n",
        "ci_upper = [ate_interval_cf[1], ate_interval_dml[1]]\n",
        "labels = ['Causal Forest', 'DML']\n",
        "\n",
        "x = np.arange(len(labels))\n",
        "width = 0.35\n",
        "\n",
        "fig, ax = plt.subplots(figsize=(10, 6))\n",
        "rects1 = ax.bar(x, ate_values, width, label='ATE')\n",
        "ax.errorbar(x, ate_values, yerr=[[ate_values[i] - ci_lower[i] for i in range(len(ate_values))],\n",
        "                                  [ci_upper[i] - ate_values[i] for i in range(len(ate_values))]],\n",
        "              fmt='none', ecolor='black', capsize=5)\n",
        "\n",
        "ax.set_ylabel('Average Treatment Effect (ATE)', fontsize=14, fontweight='bold', color='#3f8a74')\n",
        "ax.set_title('Comparison of ATE: Causal Forest vs. DML', fontsize=16, fontweight='bold', color='navy')\n",
        "ax.set_xticks(x)\n",
        "ax.set_xticklabels(labels)\n",
        "ax.legend()\n",
        "\n",
        "def autolabel(rects):\n",
        "    \"\"\"Attach a text label above each bar in *rects*, displaying its height.\"\"\"\n",
        "    for rect in rects:\n",
        "        height = rect.get_height()\n",
        "        ax.annotate(f'{height:.3f}',\n",
        "                    xy=(rect.get_x() + rect.get_width() / 2, height),\n",
        "                    xytext=(0, 3),  # 3 points vertical offset\n",
        "                    textcoords=\"offset points\",\n",
        "                    ha='center', va='bottom')\n",
        "\n",
        "autolabel(rects1)\n",
        "fig.tight_layout()\n",
        "plt.gca().set_facecolor('#e4ffdc')\n",
        "plt.savefig('fig_causal_methods_comparison.png')\n",
        "plt.show()"
      ],
      "metadata": {
        "colab": {
          "base_uri": "https://localhost:8080/",
          "height": 607
        },
        "id": "ECjxftH4qsao",
        "outputId": "f10604d9-b940-4990-b2ea-0e05aa093f14"
      },
      "execution_count": null,
      "outputs": [
        {
          "output_type": "display_data",
          "data": {
            "text/plain": [
              "<Figure size 1000x600 with 1 Axes>"
            ],
            "image/png": "[encoded data removed]"
          },
          "metadata": {}
        }
      ]
    },
    {
      "cell_type": "markdown",
      "source": [
        "# 3. **Exclude Small-Sample Countries and Rerun Key Analyses**"
      ],
      "metadata": {
        "id": "2Wb83-zzRDpy"
      }
    },
    {
      "cell_type": "code",
      "source": [
        "print(\"\\n--- 3. Exclude Small-Sample Countries and Rerun Key Analyses ---\")\n",
        "\n",
        "country_counts = df['cntry'].value_counts()\n",
        "small_countries = country_counts[country_counts < 50].index  # Threshold of 50\n",
        "df_large = df[~df['cntry'].isin(small_countries)].copy() #filtering the country\n",
        "\n",
        "print(f\"Original data size: {len(df)}\")\n",
        "print(f\"Data size after excluding small-sample countries: {len(df_large)}\")\n",
        "\n",
        "# Define X, T, Y for the filtered data\n",
        "X_large = df_large[feature_cols].copy()\n",
        "T_large = df_large['BMI'].copy()\n",
        "Y_large = df_large['CVD'].copy()\n",
        "\n",
        "# Split data\n",
        "X_train_large, X_test_large, Y_train_large, Y_test_large, T_train_large, T_test_large = train_test_split(\n",
        "    X_large, Y_large, T_large, test_size=0.2, random_state=42\n",
        ")\n",
        "\n",
        "# Causal Forest DML (Large Countries Only)\n",
        "cf_large = CausalForestDML(random_state=42)\n",
        "cf_large.fit(Y_train_large, T_train_large, X=X_train_large)\n",
        "ate_large = cf_large.ate(X_test_large).mean()\n",
        "ate_interval_large = cf_large.ate_interval(X_test_large)\n",
        "\n",
        "print(f\"ATE (Large Countries): {ate_large:.4f} CI: {ate_interval_large[0]:.4f}, {ate_interval_large[1]:.4f}\")"
      ],
      "metadata": {
        "colab": {
          "base_uri": "https://localhost:8080/"
        },
        "id": "JLXd6gtgq-Sq",
        "outputId": "47e87be1-03b4-4437-bc8d-6450a9767f6d"
      },
      "execution_count": null,
      "outputs": [
        {
          "output_type": "stream",
          "name": "stdout",
          "text": [
            "\n",
            "--- 3. Exclude Small-Sample Countries and Rerun Key Analyses ---\n",
            "Original data size: 46162\n",
            "Data size after excluding small-sample countries: 46162\n",
            "ATE (Large Countries): -3.3445 CI: -40.5961, 33.9072\n"
          ]
        }
      ]
    },
    {
      "cell_type": "markdown",
      "source": [
        "# 4. **Test Effect of Survey Weights: Weighted vs. Unweighted Results**"
      ],
      "metadata": {
        "id": "LtlWn32ERkbA"
      }
    },
    {
      "cell_type": "code",
      "source": [
        "print(\"\\n--- 4. Test Effect of Survey Weights: Weighted vs. Unweighted Results ---\")\n",
        "\n",
        "# --- Unweighted ---\n",
        "cf_unweighted = CausalForestDML(random_state=42)\n",
        "cf_unweighted.fit(Y_train, T_train, X=X_train)\n",
        "ate_unweighted = cf_unweighted.ate(X_test).mean()\n",
        "ate_interval_unweighted = cf_unweighted.ate_interval(X_test)\n",
        "\n",
        "# --- Weighted (using dweight) ---\n",
        "cf_weighted = CausalForestDML(random_state=42)\n",
        "weights_train = df.iloc[X_train.index]['dweight']\n",
        "cf_weighted.fit(Y_train, T_train, X=X_train, sample_weight=weights_train)\n",
        "ate_weighted = cf_weighted.ate(X_test).mean()\n",
        "ate_interval_weighted = cf_weighted.ate_interval(X_test)\n",
        "\n",
        "print(f\"ATE (Unweighted): {ate_unweighted:.4f} CI: {ate_interval_unweighted[0]:.4f}, {ate_interval_unweighted[1]:.4f}\")\n",
        "print(f\"ATE (Weighted): {ate_weighted:.4f} CI: {ate_interval_weighted[0]:.4f}, {ate_interval_weighted[1]:.4f}\")\n"
      ],
      "metadata": {
        "colab": {
          "base_uri": "https://localhost:8080/"
        },
        "id": "SFuAtUcuq-PJ",
        "outputId": "0b0f6f99-b926-4a5a-984e-b28f25839807"
      },
      "execution_count": null,
      "outputs": [
        {
          "output_type": "stream",
          "name": "stdout",
          "text": [
            "\n",
            "--- 4. Test Effect of Survey Weights: Weighted vs. Unweighted Results ---\n",
            "ATE (Unweighted): -3.3445 CI: -40.5961, 33.9072\n",
            "ATE (Weighted): -2.2753 CI: -35.2819, 30.7312\n"
          ]
        }
      ]
    },
    {
      "cell_type": "code",
      "source": [
        "# --- Visualization: Weighted vs. Unweighted Results ---\n",
        "ate_values = [ate_unweighted, ate_weighted]\n",
        "ci_lower = [ate_interval_unweighted[0], ate_interval_weighted[0]]\n",
        "ci_upper = [ate_interval_unweighted[1], ate_interval_weighted[1]]\n",
        "labels = ['Unweighted', 'Weighted (dweight)']\n",
        "\n",
        "x = np.arange(len(labels))\n",
        "width = 0.35\n",
        "\n",
        "fig, ax = plt.subplots(figsize=(8, 6))\n",
        "rects1 = ax.bar(x, ate_values, width, label='ATE')\n",
        "ax.errorbar(x, ate_values, yerr=[[ate_values[i] - ci_lower[i] for i in range(len(ate_values))],\n",
        "                                  [ci_upper[i] - ate_values[i] for i in range(len(ate_values))]],\n",
        "              fmt='none', ecolor='black', capsize=5)\n",
        "\n",
        "ax.set_ylabel('Average Treatment Effect (ATE)', fontsize=14, fontweight='bold', color='#3f8a74')\n",
        "ax.set_title('Comparison of ATE: Weighted vs. Unweighted', fontsize=16, fontweight='bold', color='navy')\n",
        "ax.set_xticks(x)\n",
        "ax.set_xticklabels(labels)\n",
        "ax.legend()\n",
        "\n",
        "def autolabel(rects):\n",
        "    \"\"\"Attach a text label above each bar in *rects*, displaying its height.\"\"\"\n",
        "    for rect in rects:\n",
        "        height = rect.get_height()\n",
        "        ax.annotate(f'{height:.3f}',\n",
        "                    xy=(rect.get_x() + rect.get_width() / 2, height),\n",
        "                    xytext=(0, 3),  # 3 points vertical offset\n",
        "                    textcoords=\"offset points\",\n",
        "                    ha='center', va='bottom')\n",
        "\n",
        "autolabel(rects1)\n",
        "fig.tight_layout()\n",
        "plt.gca().set_facecolor('#e4ffdc')\n",
        "plt.savefig('fig_weighted_vs_unweighted.png')\n",
        "plt.show()"
      ],
      "metadata": {
        "colab": {
          "base_uri": "https://localhost:8080/",
          "height": 607
        },
        "id": "RVdNp0ddrQjo",
        "outputId": "b4cf75e0-c06d-4e3b-b195-07a5e449bb97"
      },
      "execution_count": null,
      "outputs": [
        {
          "output_type": "display_data",
          "data": {
            "text/plain": [
              "<Figure size 800x600 with 1 Axes>"
            ],
            "image/png": "[encoded data removed]"
          },
          "metadata": {}
        }
      ]
    },
    {
      "cell_type": "markdown",
      "source": [
        "# 5. **Compute E-value**"
      ],
      "metadata": {
        "id": "bHcJN_SNSEot"
      }
    },
    {
      "cell_type": "code",
      "source": [
        "print(\"\\n--- 5. Compute E-value ---\")\n",
        "# Use the ATE and CI from the unweighted analysis\n",
        "ate = ate_unweighted\n",
        "ate_lower = ate_interval_unweighted[0]\n",
        "ate_upper = ate_interval_unweighted[1]\n",
        "\n",
        "e_value, e_value_lower_ci = compute_e_value(ate, ate_lower, ate_upper)\n",
        "print(f\"E-value: {e_value:.4f}\")\n",
        "print(f\"E-value Lower CI: {e_value_lower_ci:.4f}\")\n"
      ],
      "metadata": {
        "colab": {
          "base_uri": "https://localhost:8080/"
        },
        "id": "WD1IRJL7rQf5",
        "outputId": "34415e04-dcde-4af5-f013-640d7e7af608"
      },
      "execution_count": null,
      "outputs": [
        {
          "output_type": "stream",
          "name": "stdout",
          "text": [
            "\n",
            "--- 5. Compute E-value ---\n",
            "E-value: 6.1446\n",
            "E-value Lower CI: 67.3106\n"
          ]
        }
      ]
    },
    {
      "cell_type": "code",
      "source": [
        "# Save results to CSV and plot\n",
        "sensitivity_results = {\n",
        "    'Analysis': ['Complete Case', 'Imputed', 'Causal Forest', 'DML', 'Large Countries', 'Unweighted', 'Weighted', 'E-value'],\n",
        "    'ATE': [ate_complete, ate_imputed, ate_cf, ate_dml, ate_large, ate_unweighted, ate_weighted, e_value],\n",
        "    'CI_Lower': [ate_interval_complete[0], ate_interval_imputed[0], ate_interval_cf[0], ate_interval_dml[0], ate_interval_large[0], ate_interval_unweighted[0], ate_interval_weighted[0], e_value_lower_ci],\n",
        "    'CI_Upper': [ate_interval_complete[1], ate_interval_imputed[1], ate_interval_cf[1], ate_interval_dml[1], ate_interval_large[1], ate_interval_unweighted[1], ate_interval_weighted[1], np.nan]\n",
        "}\n",
        "\n",
        "sensitivity_df = pd.DataFrame(sensitivity_results)\n",
        "\n",
        "# Create the 'tables' directory if it doesn't exist\n",
        "if not os.path.exists('tables'):\n",
        "    os.makedirs('tables')\n",
        "\n",
        "\n",
        "sensitivity_df.to_csv('tables/sensitivity_summary.csv', index=False)\n",
        "\n",
        "# Consolidated Plot (Forest Plot Style)\n",
        "plt.figure(figsize=(12, 8))\n",
        "y_positions = range(len(sensitivity_df))\n",
        "plt.errorbar(sensitivity_df['ATE'], y_positions,\n",
        "             xerr=[(sensitivity_df['ATE'] - sensitivity_df['CI_Lower']).abs(),\n",
        "                   (sensitivity_df['CI_Upper'] - sensitivity_df['ATE']).abs()],\n",
        "             fmt='o', color='black', capsize=5)\n",
        "plt.yticks(y_positions, sensitivity_df['Analysis'])\n",
        "plt.xlabel('Average Treatment Effect (ATE)', fontsize=14, fontweight='bold', color='#3f8a74')\n",
        "plt.title('Sensitivity Analysis Summary (Forest Plot Style)', fontsize=16, fontweight='bold', color='navy')\n",
        "plt.axvline(x=0, color='red', linestyle='--', linewidth=0.7)  # Line of No Effect\n",
        "plt.grid(axis='x', linestyle='--')\n",
        "plt.tight_layout()\n",
        "plt.gca().set_facecolor('#e4ffdc')\n",
        "plt.savefig('fig_sensitivity_plot.png')\n",
        "plt.show()\n",
        "\n",
        "print(\"\\nSensitivity analysis complete. Results saved to tables/sensitivity_summary.csv and fig_sensitivity_plot.png\")"
      ],
      "metadata": {
        "colab": {
          "base_uri": "https://localhost:8080/",
          "height": 844
        },
        "id": "tmV3d6ZcreCH",
        "outputId": "850ba4d9-5e9b-4cd1-9f7d-092657d0759d"
      },
      "execution_count": null,
      "outputs": [
        {
          "output_type": "display_data",
          "data": {
            "text/plain": [
              "<Figure size 1200x800 with 1 Axes>"
            ],
            "image/png": "[encoded data removed]"
          },
          "metadata": {}
        },
        {
          "output_type": "stream",
          "name": "stdout",
          "text": [
            "\n",
            "Sensitivity analysis complete. Results saved to tables/sensitivity_summary.csv and fig_sensitivity_plot.png\n"
          ]
        }
      ]
    },
    {
      "cell_type": "code",
      "source": [
        "import pandas as pd\n",
        "from IPython.display import display, HTML\n",
        "\n",
        "def display_side_by_side(*args, titles=('',), justify=\"center\"):\n",
        "    \"\"\"\n",
        "    Displays pandas DataFrames side by side with optional titles.\n",
        "    \"\"\"\n",
        "    html_str=''\n",
        "    if len(titles)>0:\n",
        "        html_str += \"<table style='display: inline-table;'><tr>\"\n",
        "        for title in titles:\n",
        "            html_str += \"<td style='text-align:center'><h4 >{}</h4></td>\".format(title)\n",
        "        html_str += \"</tr></table>\"\n",
        "\n",
        "    html_str += \"<table style='border:none'>\"\n",
        "    html_str+=\"<tr style='border:none'>\"\n",
        "    for df in args:\n",
        "        html_str+=\"<td style='vertical-align:top'>\"\n",
        "        html_str+=df.to_html().replace('table','table style=\"display:inline\"')\n",
        "        html_str+=\"</td>\"\n",
        "    html_str+=\"</tr></table>\"\n",
        "    display(HTML(html_str))\n",
        "\n",
        "\n",
        "# Paths to the CSV files\n",
        "sensitivity_summary_path = '/content/tables/sensitivity_summary.csv'\n",
        "\n",
        "\n",
        "# Read the CSV files into pandas DataFrames\n",
        "try:\n",
        "    sensitivity_summary_df = pd.read_csv(sensitivity_summary_path)\n",
        "\n",
        "    # Display the DataFrames side by side with titles\n",
        "    display_side_by_side(sensitivity_summary_df, titles=('Sensitivity Summary')) #Modified titles\n",
        "except FileNotFoundError:\n",
        "    print(\"One or more of the CSV files were not found.  Make sure the paths are correct and that the files exist.\")\n",
        "except Exception as e:\n",
        "    print(f\"An error occurred while reading or displaying the tables: {e}\")\n",
        "\n",
        "#Optionally Save the displayed output to a HTML file'\n",
        "html_output = \"\"\"\n",
        "<!DOCTYPE html>\n",
        "<html>\n",
        "<head>\n",
        "    <title> Tables</title>\n",
        "</head>\n",
        "<body>\n",
        "\"\"\"\n",
        "\n",
        "if 'sensitivity_summary_df' in locals():\n",
        "    html_output += \"<h2>Sensitivity_Summary</h2>\"\n",
        "    html_output += sensitivity_summary_df.to_html()\n",
        "\n",
        "html_output += \"\"\"\n",
        "</body>\n",
        "</html>\n",
        "\"\"\"\n",
        "\n",
        "output_file_path = 'tables_output.html'  # Define the output file path\n",
        "\n",
        "try:\n",
        "    with open(output_file_path, 'w') as f:\n",
        "        f.write(html_output)\n",
        "    print(f\"Saved tables to {output_file_path}\")\n",
        "except Exception as e:\n",
        "    print(f\"Error saving HTML output: {e}\")"
      ],
      "metadata": {
        "colab": {
          "base_uri": "https://localhost:8080/",
          "height": 370
        },
        "id": "Wm5GnP4pxDRY",
        "outputId": "632e6464-6c6f-45de-fca9-257e00ac79a0"
      },
      "execution_count": null,
      "outputs": [
        {
          "output_type": "display_data",
          "data": {
            "text/plain": [
              "<IPython.core.display.HTML object>"
            ],
            "text/html": [
              "<table style='display: inline-table;'><tr><td style='text-align:center'><h4 >S</h4></td><td style='text-align:center'><h4 >e</h4></td><td style='text-align:center'><h4 >n</h4></td><td style='text-align:center'><h4 >s</h4></td><td style='text-align:center'><h4 >i</h4></td><td style='text-align:center'><h4 >t</h4></td><td style='text-align:center'><h4 >i</h4></td><td style='text-align:center'><h4 >v</h4></td><td style='text-align:center'><h4 >i</h4></td><td style='text-align:center'><h4 >t</h4></td><td style='text-align:center'><h4 >y</h4></td><td style='text-align:center'><h4 > </h4></td><td style='text-align:center'><h4 >S</h4></td><td style='text-align:center'><h4 >u</h4></td><td style='text-align:center'><h4 >m</h4></td><td style='text-align:center'><h4 >m</h4></td><td style='text-align:center'><h4 >a</h4></td><td style='text-align:center'><h4 >r</h4></td><td style='text-align:center'><h4 >y</h4></td></tr></table><table style='border:none'><tr style='border:none'><td style='vertical-align:top'><table style=\"display:inline\" border=\"1\" class=\"dataframe\">\n",
              "  <thead>\n",
              "    <tr style=\"text-align: right;\">\n",
              "      <th></th>\n",
              "      <th>Analysis</th>\n",
              "      <th>ATE</th>\n",
              "      <th>CI_Lower</th>\n",
              "      <th>CI_Upper</th>\n",
              "    </tr>\n",
              "  </thead>\n",
              "  <tbody>\n",
              "    <tr>\n",
              "      <th>0</th>\n",
              "      <td>Complete Case</td>\n",
              "      <td>-3.344470</td>\n",
              "      <td>-40.596116</td>\n",
              "      <td>33.907177</td>\n",
              "    </tr>\n",
              "    <tr>\n",
              "      <th>1</th>\n",
              "      <td>Imputed</td>\n",
              "      <td>-3.344470</td>\n",
              "      <td>-40.596116</td>\n",
              "      <td>33.907177</td>\n",
              "    </tr>\n",
              "    <tr>\n",
              "      <th>2</th>\n",
              "      <td>Causal Forest</td>\n",
              "      <td>-3.344470</td>\n",
              "      <td>-40.596116</td>\n",
              "      <td>33.907177</td>\n",
              "    </tr>\n",
              "    <tr>\n",
              "      <th>3</th>\n",
              "      <td>DML</td>\n",
              "      <td>0.576870</td>\n",
              "      <td>-3.025008</td>\n",
              "      <td>4.178749</td>\n",
              "    </tr>\n",
              "    <tr>\n",
              "      <th>4</th>\n",
              "      <td>Large Countries</td>\n",
              "      <td>-3.344470</td>\n",
              "      <td>-40.596116</td>\n",
              "      <td>33.907177</td>\n",
              "    </tr>\n",
              "    <tr>\n",
              "      <th>5</th>\n",
              "      <td>Unweighted</td>\n",
              "      <td>-3.344470</td>\n",
              "      <td>-40.596116</td>\n",
              "      <td>33.907177</td>\n",
              "    </tr>\n",
              "    <tr>\n",
              "      <th>6</th>\n",
              "      <td>Weighted</td>\n",
              "      <td>-2.275344</td>\n",
              "      <td>-35.281928</td>\n",
              "      <td>30.731240</td>\n",
              "    </tr>\n",
              "    <tr>\n",
              "      <th>7</th>\n",
              "      <td>E-value</td>\n",
              "      <td>6.144650</td>\n",
              "      <td>67.310612</td>\n",
              "      <td>NaN</td>\n",
              "    </tr>\n",
              "  </tbody>\n",
              "</table style=\"display:inline\"></td></tr></table>"
            ]
          },
          "metadata": {}
        },
        {
          "output_type": "stream",
          "name": "stdout",
          "text": [
            "Saved tables to tables_output.html\n"
          ]
        }
      ]
    },
    {
      "cell_type": "markdown",
      "source": [
        "## Refer to Part2_Sensitivity Analysis and Method Comparison for continuation."
      ],
      "metadata": {
        "id": "KwYiWb1pcYJy"
      }
    }
  ]
}