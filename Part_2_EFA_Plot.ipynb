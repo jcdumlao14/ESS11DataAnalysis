{
  "nbformat": 4,
  "nbformat_minor": 0,
  "metadata": {
    "colab": {
      "provenance": [],
      "authorship_tag": "ABX9TyMXTbuCf4pEA2gAjZjr9aDv",
      "include_colab_link": true
    },
    "kernelspec": {
      "name": "python3",
      "display_name": "Python 3"
    },
    "language_info": {
      "name": "python"
    }
  },
  "cells": [
    {
      "cell_type": "markdown",
      "metadata": {
        "id": "view-in-github",
        "colab_type": "text"
      },
      "source": [
        "<a href=\"https://colab.research.google.com/github/jcdumlao14/ESS11DataAnalysis/blob/main/Part_2_EFA_Plot.ipynb\" target=\"_parent\"><img src=\"https://colab.research.google.com/assets/colab-badge.svg\" alt=\"Open In Colab\"/></a>"
      ]
    },
    {
      "cell_type": "markdown",
      "source": [
        "# **Part 2: Exploratory Factor Analysis (EFA) and Statistical Measures**"
      ],
      "metadata": {
        "id": "gSzO12keLZSo"
      }
    },
    {
      "cell_type": "markdown",
      "source": [
        "## Calculating Statistical Measures\n",
        "| Column    | Variance | Mean   | Median | Standard Deviation | 95% Confidence Interval                                | Skewness | Kurtosis |\n",
        "| --------- | -------- | ------ | ------ | ------------------ | ------------------------------------------------------ | -------- | -------- |\n",
        "| ppltrst   | 23.6812  | 5.2439 | 5.0000 | 4.8663            | (5.1996, 5.2883)                                         | 12.4226  | 207.9982 |\n",
        "| pplfair   | 42.7035  | 6.0567 | 6.0000 | 6.5348            | (5.9971, 6.1163)                                         | 10.8331  | 132.9277 |\n",
        "| pplhlp    | 27.1581  | 5.2713 | 5.0000 | 5.2113            | (5.2237, 5.3188)                                         | 12.4068  | 193.3210 |\n",
        "| trstprl   | 139.2884 | 6.0734 | 5.0000 | 11.8021           | (5.9657, 6.1811)                                         | 6.3709   | 41.0114  |\n",
        "| trstplc   | 67.8404  | 7.1557 | 7.0000 | 8.2365            | (7.0806, 7.2309)                                         | 8.6513   | 81.1858  |\n",
        "| trstplt   | 107.9018 | 4.8582 | 4.0000 | 10.3876           | (4.7635, 4.9530)                                         | 7.3012   | 54.8165  |\n",
        "| trstprt   | 129.2672 | 5.1003 | 4.0000 | 11.3696           | (4.9966, 5.2041)                                         | 6.7320   | 45.7206  |\n",
        "| trstun    | 466.9220 | 11.0375| 5.0000 | 21.6084           | (10.8404, 11.2346)                                       | 3.2111   | 8.5265   |\n",
        "| trstep    | 420.5192 | 9.9235 | 5.0000 | 20.5066           | (9.7364, 10.1105)                                       | 3.4641   | 10.2551  |\n",
        "| polintr   | 0.9195   | 2.6582 | 3.0000 | 0.9589            | (2.6494, 2.6669)                                         | 0.1220   | 0.2268   |\n",
        "| psppsgva  | 1.6265   | 2.3111 | 2.0000 | 1.2754            | (2.2995, 2.3228)                                         | 1.8529   | 5.9619   |\n",
        "| psppipla  | 1.4918   | 2.2349 | 2.0000 | 1.2214            | (2.2237, 2.2460)                                         | 1.8743   | 6.3833   |\n",
        "| cptppola  | 1.7669   | 2.2895 | 2.0000 | 1.3293            | (2.2774, 2.3017)                                         | 1.6359   | 4.2075   |\n",
        "| actrolga  | 1.6879   | 2.1946 | 2.0000 | 1.2992            | (2.1827, 2.2064)                                         | 1.7101   | 4.5808   |\n",
        "| vote      | 0.7051   | 1.3857 | 1.0000 | 0.8397            | (1.3780, 1.3933)                                         | 4.2257   | 26.3887  |\n",
        "| stflife   | 47.0006  | 7.6626 | 8.0000 | 6.8557            | (7.6001, 7.7252)                                         | 10.1902  | 113.6465 |\n",
        "| stfeco    | 117.4963 | 5.8465 | 5.0000 | 10.8396           | (5.7476, 5.9454)                                         | 7.0312   | 50.1985  |\n",
        "| stfgov    | 204.1086 | 6.5617 | 4.0000 | 14.2867           | (6.4313, 6.6920)                                         | 5.2680   | 26.8067  |\n",
        "| stfdem    | 214.0660 | 7.6630 | 5.0000 | 14.6310           | (7.5295, 7.7965)                                         | 5.0801   | 24.7976  |\n",
        "| stfedu    | 282.2379 | 8.7048 | 5.0000 | 16.7999           | (8.5516, 8.8581)                                         | 4.4023   | 17.8725  |\n",
        "| stfhlth   | 59.5015  | 5.7178 | 5.0000 | 7.7137            | (5.6474, 5.7881)                                         | 9.3422   | 96.8619  |\n",
        "| imsmetn   | 1.4256   | 2.1846 | 2.0000 | 1.1940            | (2.1737, 2.1955)                                         | 2.2737   | 8.3541   |\n",
        "| imdfetn   | 1.4410   | 2.5213 | 2.0000 | 1.2004            | (2.5104, 2.5323)                                         | 1.7754   | 6.1034   |\n",
        "| impcntr   | 1.4784   | 2.5883 | 2.0000 | 1.2159            | (2.5772, 2.5994)                                         | 1.6605   | 5.5407   |\n",
        "| imbgeco   | 203.2495 | 7.7670 | 5.0000 | 14.2566           | (7.6369, 7.8970)                                         | 5.2268   | 26.4174  |\n",
        "| imueclt   | 190.6657 | 7.6791 | 5.0000 | 13.8082           | (7.5531, 7.8051)                                         | 5.4023   | 28.4697  |\n",
        "| imwbcnt   | 205.0983 | 7.5208 | 5.0000 | 14.3213           | (7.3901, 7.6514)                                         | 5.2357   | 26.3923  |\n",
        "| ccnthum   | 198.7923 | 6.1021 | 3.0000 | 14.0994           | (5.9735, 6.2308)                                         | 5.2156   | 26.0890  |\n",
        "| ccrdprs   | 175.6092 | 8.1945 | 6.0000 | 13.2518           | (8.0736, 8.3154)                                         | 5.1641   | 26.4910  |\n",
        "| wrclmch   | 1.1669   | 3.2617 | 3.0000 | 1.0802            | (3.2519, 3.2716)                                         | 0.5311   | 2.1072   |"
      ],
      "metadata": {
        "id": "5XlxRWAgCW2q"
      }
    },
    {
      "cell_type": "markdown",
      "source": [
        "- **Trust Measures (ppltrst, pplfair, pplhlp)**: People generally score around 5-6 on trusting others and finding them fair and helpful. However, the high skewness and kurtosis values suggest a lot of extreme responses, meaning some people strongly disagree while others strongly agree. The large difference between the median and mean also shows how much the few higher values affect the mean making it skewed towards higher values.\n",
        "- **Trust in Institutions (trstprl, trstplc, trstplt, trstprt, trstun, trstep)**: Trust in political institutions is generally lower than interpersonal trust, with scores often clustered around the median of 4-7, depending on the specific institution. The very high variance and standard deviation indicate a wide range of opinions. The skewness again shows there are some very high values that drastically affect the mean, making it skew away from median and lower values.\n",
        "- **Political Interest (polintr)**: Political interest is moderately low, with an average score around 2.6. The low variance suggests people's interest levels are fairly consistent. The very low Kurtosis also shows that there are very few outliers within the dataset, with the spread being relatively smaller than the rest.\n",
        "- **Feeling of influence on politics (psppsgva, psppipla, cptppola, actrolga)**: The score is generally around 2, showing how most people feel as though their actions are not effective to change anything in politics. with the high Kurtosis also shows how there is a high peak near the mean of the distribution, with majority of the responses gathered near the mean.\n",
        "- **Voting (vote)**: The average vote count is around 1.3 showing that there were some voters and there were non voters within the dataset. And kurtosis is high due to the limited values of 0 and 1, which skews the results.\n",
        "- **Satisfaction (stflife, stfeco, stfgov, stfdem, stfedu, stfhlth)**: The mean values for overall satisfaction are clustered around 5.5-8 depending on what they are satisfied with, with many extreme results, making it skewed to the higher results. Overall the spread is very wide, with high kurtosis values suggesting that the distribution is very peaked, with a high variance suggesting that there are a lot of responses scattered over the dataset.\n",
        "- **Immigration Attitudes (imsmetn, imdfetn, impcntr, imbgeco, imueclt, imwbcnt)**: Similar to satisfaction, immigration attitudes score a mean of 2-8 depending on the category. With the same results being seen as above, there is a very wide spread making it hard to truly see the correct results.\n",
        "- **Climate Change Attitudes (cnthhum, ccrdprs)**:\n",
        "Climate change attitude averages around 6-8, showing how the average person feels, however the amount of skew shows that the responses drastically vary over different people with some being extremely different from each other.\n",
        "- **Work and Class Attitudes (wrclmch)**: the mean response of 3.2 shows how overall the amount of working class is the most dominant with limited responses. With a low kurtosis, this suggests that there isn't a significant outlier, and the low variance also shows that the spread in the dataset is relatively small, meaning the general attitudes of the respondents are similar.\n",
        "\n",
        "**Overall**: The responses are mostly skewed towards the lower end for most questions showing a negative mindset.\n",
        "\n"
      ],
      "metadata": {
        "id": "WEU05WS-EK5T"
      }
    },
    {
      "cell_type": "markdown",
      "source": [
        "# **Scree Plot for Trust and Social Attitudes Variables**\n",
        "\n",
        "## **Key Findings**\n",
        "\n",
        "Based on the scree plot and the Eigenvalue = 1 criteria:\n",
        "\n",
        "**1. Number of Factors**: The scree plot suggests retaining 2 or 3 factors. After the second or third factor, the contribution of additional factors diminishes significantly. The first two factors, at least, should be regarded as influential components.\n",
        "\n",
        "**2. Variance Explained**: The initial factors capture a large proportion of the variance in the trust and social attitudes variables. This highlights the presence of underlying dimensions that explain the relationships between these variables.\n",
        "\n",
        "**3. Data Reduction**: Factor analysis can be used to reduce the dimensionality of the data by representing the original variables with a smaller set of factors.\n"
      ],
      "metadata": {
        "id": "uFMCm2BaA7h5"
      }
    },
    {
      "cell_type": "markdown",
      "source": [
        "# **Factor Loading Heatmap for Trust and Social Attitudes Variables**\n",
        "\n",
        "## **Key Findings**\n",
        "- **Factor 1**:\n",
        "  - High loadings for **trstplt** (0.86) and **trstprt** (0.81). Moderate loading for **trstprl**(0.53) and **trstplc**(0.40).\n",
        "  - This suggests Factor 1 primarily represents trust in institutions (police, courts, parliament, etc).\n",
        "- **Factor 2** :\n",
        "  - High loadings for **trstun** (0.71) and **trstep** (0.74).\n",
        "  - Factor 2 represents trust in unemployed and trust in people from other European countries, so trust of other human beings.\n",
        "- **Factor 3** :\n",
        "  - Moderate loadings for **ppltrst** (0.53), **pplfair** (0.51), and **pplhlp** (0.51).\n",
        "  - Factor 3 represents belief that other people are trustworthy, fair, and helpful.\n",
        "- **Variable Loadings Across Factors**:\n",
        "  - Some variables load strongly on one factor and weakly on others (e.g., trstplt loads strongly on Factor 1, but weakly on Factors 2 and 3). This is ideal as it indicates that the variables are distinctively capturing unique aspects of the factors.\n"
      ],
      "metadata": {
        "id": "LueA-C6qBs5y"
      }
    },
    {
      "cell_type": "markdown",
      "source": [
        "# **Group Bar Chart of Factor Loading for Trust and Social Attitudes Variables**\n",
        "\n",
        "## **Key Findings**\n",
        "**1. Factor Loadings Patterns**:\n",
        "   - **Factor 1 (Blue)**: High loadings for **trstplt**, **trstprt**, **trstprl** and to a lesser extent for **trstplc**. These variables seem to collectively measure the trust in institutions.\n",
        "   - **Factor 2 (Orange)**: High loadings for **trstun** and **trstep**. This means this factor captures social trust, more specifically how the subjects trust unemployed and people from other european countries.\n",
        "   - **Factor 3 (Green)**: High loadings for **ppltrst**, **pplfair**, and **pplhlp**. The variables in Factor 3 capture the overall belief that people are generally trustworthy, fair, and helpful.\n",
        "   - **Variable-Factor Associations**:\n",
        "     - The bars show the most important associations. For instance, trstplt is more associated with Factor 1. Therefore, by looking at the data, the variable loads higher in that specific factor.\n",
        "\n",
        "## **Overall Summary**:\n",
        "The grouped bar chart provides a clearer visualization of the relationships between variables and the underlying factors in your data. It reinforces the notion of three distinct factors related to trust and social attitudes: Institutional Trust, Social Trust, and Generalized Trust Beliefs. This visualization aligns with the interpretations derived from the factor loadings heatmap.\n"
      ],
      "metadata": {
        "id": "EhhkNMW9CnnR"
      }
    },
    {
      "cell_type": "markdown",
      "source": [
        "# **Scree Plot for Political Engagement & Efficacy Variables**\n",
        "\n",
        "## **Key Findings**\n",
        "**1. Number of Factors**: The scree plot suggests retaining 2 factors. The line flattens out after Factor 2, indicating that subsequent factors contribute diminishingly to the overall variance.\n",
        "\n",
        "**2. Variance Explained**: The first two factors capture the majority of the variance. Factor 1 is the most important, followed by Factor 2.\n",
        "\n",
        "**3. Potential Data Reduction**: Factor analysis could reduce the dimensionality of the data to two factors that capture the most relevant information.\n"
      ],
      "metadata": {
        "id": "A_KrhylbCgIL"
      }
    },
    {
      "cell_type": "markdown",
      "source": [
        "# **Factor loadings Heatmap for Political Engagement & Efficacy Variables**\n",
        "\n",
        "## **Key Findings**\n",
        "\n",
        "- **Factor 1** :\n",
        "  - High loadings for **psppsgva** (0.82) and **psppipla** (0.70).\n",
        "  - This suggests Factor 1 relates to political efficacy/the belief that one's participation can influence the system.\n",
        "- **Factor 2** :\n",
        "  - High loadings for **actrolga** (0.70) and **cptppola** (0.62).\n",
        "  - Factor 2 appears to represent the belief that you can act for political reasons and being involved with political organizations, or political engagement.\n",
        "- **Negative Loadings**:\n",
        "  - **polintr** and vote have negative loadings on both factors (although they are not strong, they are present). This could mean that greater engagement and efficacy have small negative relations with political knowledge and voting, or that they are not related at all (close to zero).\n"
      ],
      "metadata": {
        "id": "YeAm6i6KClXb"
      }
    },
    {
      "cell_type": "markdown",
      "source": [
        "# **Group Bar Chart for Political Engagement & Efficacy Variables**\n",
        "\n",
        "## **Key Findings**\n",
        "- **Factor 1 Loadings**:\n",
        "   - Strong positive loadings for **psppsgva** and **psppipla**. This confirms that Factor 1 represents political efficacy.\n",
        "- **Factor 2 Loadings**:\n",
        "   - Strong positive loadings for **cptppola** and **actrolga**. This confirms that Factor 2 represents political engagement.\n",
        "- **Negative Loadings**:\n",
        "  - Both **polintr** and vote demonstrate negative loadings on the political efficacy and engagement Factors. This implies political interest and the frequency of voting have a weak and negative influence on the factors related to efficacy and engagement.\n",
        "\n",
        "## **Overall Summary**\n",
        "This grouped bar chart visualization confirms the existence of two dimensions: political efficacy and political engagement. This visualization helps to interpret the meaning of the factors, as extracted via factor analysis.\n"
      ],
      "metadata": {
        "id": "o3qW7chOCk7q"
      }
    },
    {
      "cell_type": "markdown",
      "source": [
        "# **Scree Plot for Socio-Economic Satisfaction/Attitudes Variables**\n",
        "\n",
        "## **Key Findings**\n",
        "**1. Number of Factors**: The scree plot suggests retaining 1 or 2 factors. The curve flattens considerably after the first factor, with the possible \"**elbow**\" at Factor 2. The Eigenvalue = 1 criteria would suggest only retaining Factor 1.\n",
        "\n",
        "**2. Variance Explained**: Factor 1 explains the largest proportion of the variance in the socio-economic satisfaction/attitudes variables.\n",
        "\n",
        "**3. Potential Data Reduction**: Depending on the complexity you want to capture, the data can be reduced to 1 or 2 main factors.\n"
      ],
      "metadata": {
        "id": "Qlb2XQNnCkyZ"
      }
    },
    {
      "cell_type": "markdown",
      "source": [
        "# **Factor Loadings Heatmap for Socio-Economic Satisfaction/Attitudes Variables**\n",
        "## **Key Findings**\n",
        "- **Factor 1** :\n",
        "   - High loading for **stfgov** (0.76), moderate loading for **stfdem** (0.47), and moderate loading for **stfeco**(0.35).\n",
        "   - This indicates Factor 1 relates to satisfaction with the government and the economy.\n",
        "- **Factor 2** :\n",
        "   - Moderate loading for **stfhlth** (0.43), and **stfedu** (0.37).\n",
        "   - This indicates Factor 2 relates to satisfaction with healthcare and education.\n",
        "- **Weak or Moderate Loadings**:\n",
        "  - There are no very strong loadings on Factor 2. This is consistent with the scree plot.\n"
      ],
      "metadata": {
        "id": "OWXkcXr-Fx_t"
      }
    },
    {
      "cell_type": "markdown",
      "source": [
        "# **Group Bar Chart of Factor Loading for Socio-Economic Satisfaction/Attitudes Variables**\n",
        "## **Key Findings**\n",
        "- **Factor 1 Loadings**:\n",
        "  - **stfgov** (Satisfaction with Government) has the highest loading on Factor 1, reinforcing Factor 1 represents a positive socio-economic environment.\n",
        "- **Factor 2 Loadings**:\n",
        "  - **stfhlth** (Satisfaction with Healthcare) has the highest loading on Factor 2, which shows how important the service is for people, and its positive relationship with an individual's view on the world.\n",
        "- **Variable-Factor Associations**:\n",
        "  - \"**Satisfaction with Life**\" seems to be barely correlated with both factors. The service may not be important.\n",
        "\n"
      ],
      "metadata": {
        "id": "eYYj8uf6Fxm2"
      }
    },
    {
      "cell_type": "markdown",
      "source": [
        "# **Scree Plot for Immigration Attitudes Variables**\n",
        "## **Key Findings**\n",
        "1. **Number of Factors:** This scree plot suggests retaining 2 factors.\n",
        "2. **Variance Explained:** The first two factors capture the largest amount of variance in immigration attitudes.\n",
        "3. **Potential Data Reduction:** Factor analysis can reduce the data to 2 factors, to extract the\n",
        "4. most relevant information.\n"
      ],
      "metadata": {
        "id": "wzMrkKKnHcPA"
      }
    },
    {
      "cell_type": "markdown",
      "source": [
        "# **Grouped Bar Chart of Factor Loadings Immigration Attitudes Variables**\n",
        "## **Key Findings**\n",
        "- **Factor 1 Loadings**:\n",
        "  - **imdfetn**, **impcntr**, and **imsmetn** exhibit high loadings on Factor 1. Confirming, in this dataset, the cultural threat.\n",
        "- **Factor 2 Loadings**:\n",
        "  - **imueclt**, **imwbcnt**, and **imbgeco** show strong loadings on Factor 2. confirming the variables correlate most strongly.\n",
        "- The separation between the bars reinforce the two factors.\n"
      ],
      "metadata": {
        "id": "bsRsJMABG9W1"
      }
    },
    {
      "cell_type": "markdown",
      "source": [
        "# **Scree plot for Climate Change Attitudes Variables**\n",
        "\n",
        "# **Key Findings**\n",
        "- **Number of Factors**: This scree plot suggests retaining 1 factor. The significant drop from Factor 1 to Factor 2 indicates Factor 1's high importance.\n",
        "- **Variance Explained**: This factor captures more variance, in comparison with other factors for Climate Change Attitudes.\n",
        "- **Potential Data Reduction**: You should only apply Factor 1, as it has significance for analysis, and drop the other ones.\n"
      ],
      "metadata": {
        "id": "kvE888ibIVXa"
      }
    },
    {
      "cell_type": "markdown",
      "source": [
        "# **Factor Loadings Heatmap for Climate Change Attitudes Variables**\n",
        "## **Key Findings**\n",
        "- **Negative Loadings**: Since all values are negative, consider the nature of the variables. It might be a question for \"**disagree with climate change**\".\n",
        "- **Factor 1** :\n",
        "   - High Loading for ccrdprs (-0.95)\n",
        "   - This factor captures if climate change is caused by humans, which is related to others.\n",
        "\n"
      ],
      "metadata": {
        "id": "FzhyTGNVIklR"
      }
    },
    {
      "cell_type": "markdown",
      "source": [
        "# **Group Bar Chart for  Climate Change Attitudes Variables**\n",
        "## **Key Findings**\n",
        "**Factor 1 Loadings**:\n",
        "  - **ccrdprs** represents the belief that climate change is not due to human actions, but that of nature\n"
      ],
      "metadata": {
        "id": "ilcHKprAH6ER"
      }
    },
    {
      "cell_type": "markdown",
      "source": [
        "### Refer to the plot for illustration in the link provided: https://github.com/jcdumlao14/ESS11DataAnalysis/blob/main/EFA_and_Statistical_Measures.ipynb"
      ],
      "metadata": {
        "id": "AuAIYfFfNDlw"
      }
    }
  ]
}